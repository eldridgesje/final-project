{
 "cells": [
  {
   "cell_type": "code",
   "execution_count": null,
   "id": "68f7e723",
   "metadata": {},
   "outputs": [],
   "source": [
    "# https://en.wikipedia.org/wiki/Big_Five_personality_traits\n",
    "# https://ipip.ori.org/newBigFive5broadKey.htm"
   ]
  },
  {
   "cell_type": "code",
   "execution_count": null,
   "id": "a5d5564c",
   "metadata": {},
   "outputs": [],
   "source": [
    "import pandas as pd\n",
    "import matplotlib.pyplot as plt\n",
    "import numpy as np\n",
    "import seaborn as sns\n",
    "%matplotlib inline"
   ]
  },
  {
   "cell_type": "code",
   "execution_count": null,
   "id": "c0f938cb",
   "metadata": {},
   "outputs": [],
   "source": [
    "file_to_open = pd.read_csv(\"Resources/data.csv\", delimiter=\"\\t\")\n",
    "data=file_to_open.copy()\n",
    "data.head()"
   ]
  },
  {
   "cell_type": "code",
   "execution_count": null,
   "id": "b3e46ec6",
   "metadata": {},
   "outputs": [],
   "source": [
    "data.shape"
   ]
  },
  {
   "cell_type": "code",
   "execution_count": null,
   "id": "4ad90564",
   "metadata": {},
   "outputs": [],
   "source": [
    "data.columns"
   ]
  },
  {
   "cell_type": "code",
   "execution_count": null,
   "id": "b7dbb55f",
   "metadata": {},
   "outputs": [],
   "source": [
    "data.isnull().values.any()"
   ]
  },
  {
   "cell_type": "code",
   "execution_count": null,
   "id": "5b052ba6",
   "metadata": {},
   "outputs": [],
   "source": [
    "data.isnull().sum()"
   ]
  },
  {
   "cell_type": "code",
   "execution_count": null,
   "id": "bc4ecdd1",
   "metadata": {},
   "outputs": [],
   "source": [
    "data.dropna(inplace=True)"
   ]
  },
  {
   "cell_type": "code",
   "execution_count": null,
   "id": "0f1a4f85",
   "metadata": {},
   "outputs": [],
   "source": [
    "print(f\"Number of participants: {len(data)}\")"
   ]
  },
  {
   "cell_type": "code",
   "execution_count": null,
   "id": "a4ea3ff5",
   "metadata": {},
   "outputs": [],
   "source": [
    "data.age.value_counts()"
   ]
  },
  {
   "cell_type": "code",
   "execution_count": null,
   "id": "7b43b373",
   "metadata": {},
   "outputs": [],
   "source": [
    "# calculate maximum year we're looking for in the data\n",
    "max_year = 2012-13\n",
    "print(f\"Youngest participient's date of birth: {max_year}\")"
   ]
  },
  {
   "cell_type": "code",
   "execution_count": null,
   "id": "e95ff3a6",
   "metadata": {},
   "outputs": [],
   "source": [
    "data= data.loc[data[\"age\"]<2000]\n",
    "data.head()"
   ]
  },
  {
   "cell_type": "code",
   "execution_count": null,
   "id": "05dc71ac",
   "metadata": {},
   "outputs": [],
   "source": [
    "data[\"age\"] = [2012-x if x >1960 else x for x in data[\"age\"]]\n",
    "data= data.loc[data[\"age\"]<=120]\n",
    "data.head()"
   ]
  },
  {
   "cell_type": "code",
   "execution_count": null,
   "id": "17e0e764",
   "metadata": {},
   "outputs": [],
   "source": [
    "data.age.sort_values(ascending=False) "
   ]
  },
  {
   "cell_type": "code",
   "execution_count": null,
   "id": "aa9907e9",
   "metadata": {},
   "outputs": [],
   "source": [
    "data.describe()"
   ]
  },
  {
   "cell_type": "code",
   "execution_count": null,
   "id": "f752ffb3",
   "metadata": {},
   "outputs": [],
   "source": [
    "# data.dtypes"
   ]
  },
  {
   "cell_type": "code",
   "execution_count": null,
   "id": "77fa8b6a",
   "metadata": {},
   "outputs": [],
   "source": [
    "data.corr()"
   ]
  },
  {
   "cell_type": "code",
   "execution_count": null,
   "id": "721ba3c5",
   "metadata": {},
   "outputs": [],
   "source": [
    "data.country.value_counts()"
   ]
  },
  {
   "cell_type": "code",
   "execution_count": null,
   "id": "ec903cbf",
   "metadata": {},
   "outputs": [],
   "source": [
    "data.country.value_counts().mean()"
   ]
  },
  {
   "cell_type": "code",
   "execution_count": null,
   "id": "4dc5b625",
   "metadata": {},
   "outputs": [],
   "source": [
    "countries = pd.DataFrame(data[\"country\"].value_counts())\n",
    "c_125= countries.loc[countries[\"country\"]>125]\n",
    "plt.bar(c_125.index,c_125[\"country\"])\n",
    "plt.show()"
   ]
  },
  {
   "cell_type": "code",
   "execution_count": null,
   "id": "82140c97",
   "metadata": {},
   "outputs": [],
   "source": [
    "c_125.nunique()"
   ]
  },
  {
   "cell_type": "code",
   "execution_count": null,
   "id": "6cd57cb6",
   "metadata": {},
   "outputs": [],
   "source": [
    "# Recheck how many cluster we should have as maximum\n",
    "from sklearn.preprocessing import MinMaxScaler\n",
    "\n",
    "df = data.drop(\"country\", axis=1)\n",
    "trim_df = df.drop(df.columns[:6], axis=1)\n",
    "columns = list(trim_df.columns)\n",
    "scaler = MinMaxScaler(feature_range=(0,1))\n",
    "scale_df = scaler.fit_transform(trim_df)\n",
    "scale_df = pd.DataFrame(scale_df, columns=columns)\n",
    "scale_df.head()"
   ]
  },
  {
   "cell_type": "code",
   "execution_count": null,
   "id": "2fce74ee",
   "metadata": {},
   "outputs": [],
   "source": [
    "#Elbow Method \n",
    "from sklearn.cluster import KMeans\n",
    "from yellowbrick.cluster import KElbowVisualizer\n",
    "\n",
    "kmeans = KMeans()\n",
    "visualizer = KElbowVisualizer(kmeans, k=(2,15))\n",
    "visualizer.fit(df)\n",
    "visualizer.poof()"
   ]
  },
  {
   "cell_type": "code",
   "execution_count": null,
   "id": "9c834b2e",
   "metadata": {},
   "outputs": [],
   "source": [
    "# cluster analysis- Aysin"
   ]
  },
  {
   "cell_type": "code",
   "execution_count": null,
   "id": "84d4e922",
   "metadata": {},
   "outputs": [],
   "source": [
    "from sklearn.cluster import KMeans\n",
    "kmeans = KMeans(n_clusters=5)"
   ]
  },
  {
   "cell_type": "code",
   "execution_count": null,
   "id": "4c9ffc4c",
   "metadata": {},
   "outputs": [],
   "source": [
    "kmeans.fit(scale_df)"
   ]
  },
  {
   "cell_type": "code",
   "execution_count": null,
   "id": "d688127c",
   "metadata": {},
   "outputs": [],
   "source": [
    "predicted_clusters = kmeans.predict(scale_df)"
   ]
  },
  {
   "cell_type": "code",
   "execution_count": null,
   "id": "5798ca18",
   "metadata": {},
   "outputs": [],
   "source": [
    "centers = kmeans.cluster_centers_\n",
    "labels = kmeans.labels_\n",
    "labels"
   ]
  },
  {
   "cell_type": "code",
   "execution_count": null,
   "id": "63a3f5fb",
   "metadata": {},
   "outputs": [],
   "source": [
    "len(labels)"
   ]
  },
  {
   "cell_type": "code",
   "execution_count": null,
   "id": "4f775eba",
   "metadata": {},
   "outputs": [],
   "source": [
    "centers"
   ]
  },
  {
   "cell_type": "code",
   "execution_count": null,
   "id": "3abe173b",
   "metadata": {},
   "outputs": [],
   "source": [
    "# scale_df = scale_df.add(labels)\n",
    "scale_df['cluster'] = labels.tolist()\n",
    "scale_df"
   ]
  },
  {
   "cell_type": "code",
   "execution_count": null,
   "id": "6dfb4e41",
   "metadata": {},
   "outputs": [],
   "source": [
    "# analysis of the clusters- Michael"
   ]
  },
  {
   "cell_type": "code",
   "execution_count": null,
   "id": "4965a4e6",
   "metadata": {},
   "outputs": [],
   "source": [
    "scale_df"
   ]
  },
  {
   "cell_type": "code",
   "execution_count": null,
   "id": "230dd156",
   "metadata": {},
   "outputs": [],
   "source": [
    "wieghted_df = scale_df\n",
    "wieghted_df"
   ]
  },
  {
   "cell_type": "code",
   "execution_count": null,
   "id": "37a24210",
   "metadata": {},
   "outputs": [],
   "source": [
    "wieghted_df['E2'] = 1.2 - wieghted_df['E2'] "
   ]
  },
  {
   "cell_type": "code",
   "execution_count": null,
   "id": "b1b269e7",
   "metadata": {},
   "outputs": [],
   "source": [
    "wieghted_df['E4'] = 1.2 -wieghted_df['E4']"
   ]
  },
  {
   "cell_type": "code",
   "execution_count": null,
   "id": "40a0e890",
   "metadata": {},
   "outputs": [],
   "source": [
    "wieghted_df['E6'] = 1.2 - wieghted_df['E6']"
   ]
  },
  {
   "cell_type": "code",
   "execution_count": null,
   "id": "1a8dd695",
   "metadata": {},
   "outputs": [],
   "source": [
    "wieghted_df['E8'] = 1.2 - wieghted_df['E8']"
   ]
  },
  {
   "cell_type": "code",
   "execution_count": null,
   "id": "5d328736",
   "metadata": {},
   "outputs": [],
   "source": [
    "wieghted_df['E10'] = 1.2 - wieghted_df['E10']"
   ]
  },
  {
   "cell_type": "code",
   "execution_count": null,
   "id": "f84d6226",
   "metadata": {},
   "outputs": [],
   "source": [
    "wieghted_df['N2'] = 1.2 - wieghted_df['N2']"
   ]
  },
  {
   "cell_type": "code",
   "execution_count": null,
   "id": "3ea26171",
   "metadata": {},
   "outputs": [],
   "source": [
    "wieghted_df['N4'] = 1.2 - wieghted_df['N4']"
   ]
  },
  {
   "cell_type": "code",
   "execution_count": null,
   "id": "25d70f9a",
   "metadata": {},
   "outputs": [],
   "source": [
    "wieghted_df['A1'] = 1.2 - wieghted_df['A1']"
   ]
  },
  {
   "cell_type": "code",
   "execution_count": null,
   "id": "3974ccd2",
   "metadata": {},
   "outputs": [],
   "source": [
    "wieghted_df['A3'] = 1.2 - wieghted_df['A3']"
   ]
  },
  {
   "cell_type": "code",
   "execution_count": null,
   "id": "a33bd970",
   "metadata": {},
   "outputs": [],
   "source": [
    "wieghted_df['A5'] = 1.2- wieghted_df['A5']"
   ]
  },
  {
   "cell_type": "code",
   "execution_count": null,
   "id": "9adf2e16",
   "metadata": {},
   "outputs": [],
   "source": [
    "wieghted_df['A7'] = 1.2 - wieghted_df['A7']"
   ]
  },
  {
   "cell_type": "code",
   "execution_count": null,
   "id": "8ef6bf49",
   "metadata": {},
   "outputs": [],
   "source": [
    "wieghted_df['C2'] = 1.2 - wieghted_df['C2']"
   ]
  },
  {
   "cell_type": "code",
   "execution_count": null,
   "id": "767877a6",
   "metadata": {},
   "outputs": [],
   "source": [
    "wieghted_df['C4'] = 1.2 - wieghted_df['C4']"
   ]
  },
  {
   "cell_type": "code",
   "execution_count": null,
   "id": "e50e09f0",
   "metadata": {},
   "outputs": [],
   "source": [
    "wieghted_df['C6'] = 1.2 - wieghted_df['C6']"
   ]
  },
  {
   "cell_type": "code",
   "execution_count": null,
   "id": "ac1cee9b",
   "metadata": {},
   "outputs": [],
   "source": [
    "wieghted_df['C8'] = 1.2 - wieghted_df['C8']"
   ]
  },
  {
   "cell_type": "code",
   "execution_count": null,
   "id": "389e4a68",
   "metadata": {},
   "outputs": [],
   "source": [
    "wieghted_df['O2'] = 1.2 - wieghted_df['O2']"
   ]
  },
  {
   "cell_type": "code",
   "execution_count": null,
   "id": "83c0de36",
   "metadata": {},
   "outputs": [],
   "source": [
    "wieghted_df['O4'] = 1.2 - wieghted_df['O4']"
   ]
  },
  {
   "cell_type": "code",
   "execution_count": null,
   "id": "e562e739",
   "metadata": {},
   "outputs": [],
   "source": [
    "wieghted_df['O6'] = 1.2 - wieghted_df['O6']"
   ]
  },
  {
   "cell_type": "code",
   "execution_count": null,
   "id": "25440718",
   "metadata": {},
   "outputs": [],
   "source": [
    "wieghted_df"
   ]
  },
  {
   "cell_type": "code",
   "execution_count": null,
   "id": "0465e0fe",
   "metadata": {},
   "outputs": [],
   "source": [
    "E = wieghted_df"
   ]
  },
  {
   "cell_type": "code",
   "execution_count": null,
   "id": "a0d82dfa",
   "metadata": {},
   "outputs": [],
   "source": [
    "E['E_Sum_Result'] = wieghted_df.loc[:,[\"E1\",\"E2\",\"E3\",\"E4\",\"E5\",\"E6\",\"E7\",\"E8\",\"E9\",\"E10\"]].sum(axis=1)\n",
    "E"
   ]
  },
  {
   "cell_type": "code",
   "execution_count": null,
   "id": "4e4b8218",
   "metadata": {
    "scrolled": true
   },
   "outputs": [],
   "source": [
    "N = wieghted_df\n",
    "N['N_Sum_Result'] = wieghted_df.loc[:,\"N1\":\"N10\"].sum(axis=1)\n",
    "N"
   ]
  },
  {
   "cell_type": "code",
   "execution_count": null,
   "id": "6d39fd74",
   "metadata": {},
   "outputs": [],
   "source": [
    "A = wieghted_df\n",
    "A['A_Sum_Result'] = wieghted_df.loc[:,\"A1\":\"A10\"].sum(axis=1)\n",
    "A"
   ]
  },
  {
   "cell_type": "code",
   "execution_count": null,
   "id": "cf6bedb7",
   "metadata": {},
   "outputs": [],
   "source": [
    "C = wieghted_df\n",
    "C['C_Sum_Result'] = wieghted_df.loc[:,\"C1\":\"C10\"].sum(axis=1)\n",
    "C"
   ]
  },
  {
   "cell_type": "code",
   "execution_count": null,
   "id": "f703ebf1",
   "metadata": {},
   "outputs": [],
   "source": [
    "O = wieghted_df\n",
    "O['O_Sum_Result'] = wieghted_df.loc[:,\"O1\":\"O10\"].sum(axis=1)\n",
    "O"
   ]
  },
  {
   "cell_type": "code",
   "execution_count": null,
   "id": "6886a085",
   "metadata": {},
   "outputs": [],
   "source": [
    "sums_df = pd.DataFrame()"
   ]
  },
  {
   "cell_type": "code",
   "execution_count": null,
   "id": "f8ecc0b1",
   "metadata": {},
   "outputs": [],
   "source": []
  },
  {
   "cell_type": "code",
   "execution_count": null,
   "id": "86cc81ce",
   "metadata": {},
   "outputs": [],
   "source": [
    "sums_df[\"O\"] = O['O_Sum_Result']\n",
    "sums_df[\"C\"] = C['C_Sum_Result']\n",
    "sums_df[\"E\"] = E['E_Sum_Result']\n",
    "sums_df[\"A\"] = A['A_Sum_Result']\n",
    "sums_df[\"N\"] = N['N_Sum_Result']\n",
    "sums_df[\"Cluster\"] = wieghted_df['cluster']\n",
    "sums_df"
   ]
  },
  {
   "cell_type": "code",
   "execution_count": null,
   "id": "7abfd891",
   "metadata": {},
   "outputs": [],
   "source": [
    "cluster_avg = sums_df.groupby('Cluster').mean()\n",
    "cluster_avg"
   ]
  },
  {
   "cell_type": "code",
   "execution_count": null,
   "id": "1f9f2cc0",
   "metadata": {},
   "outputs": [],
   "source": []
  },
  {
   "cell_type": "code",
   "execution_count": null,
   "id": "13119bfd",
   "metadata": {},
   "outputs": [],
   "source": []
  },
  {
   "cell_type": "code",
   "execution_count": null,
   "id": "e97cd679",
   "metadata": {},
   "outputs": [],
   "source": []
  },
  {
   "cell_type": "code",
   "execution_count": null,
   "id": "5c9576da",
   "metadata": {},
   "outputs": [],
   "source": []
  },
  {
   "cell_type": "code",
   "execution_count": null,
   "id": "4613c8f5",
   "metadata": {},
   "outputs": [],
   "source": []
  },
  {
   "cell_type": "code",
   "execution_count": null,
   "id": "f5416082",
   "metadata": {},
   "outputs": [],
   "source": [
    "# analysis of the questions- Stephen\n",
    "\n",
    "#Find silhouette score of current cluster model\n",
    "\n",
    "from sklearn import metrics\n",
    "from sklearn.metrics import pairwise_distances\n",
    "\n",
    "raw_df = scale_df.drop(columns=[\"cluster\"])\n",
    "\n",
    "print(metrics.silhouette_score(raw_df, labels, metric='euclidean'))\n"
   ]
  },
  {
   "cell_type": "code",
   "execution_count": null,
   "id": "91dae23f",
   "metadata": {},
   "outputs": [],
   "source": [
    "# Find the standard deviation of responses to each question\n",
    "\n",
    "question_df = scale_df.groupby(\"cluster\").mean()\n",
    "\n",
    "question_std = question_df.std()\n",
    "\n",
    "sorted_std = question_std.sort_values(ascending=False)\n",
    "\n",
    "sorted_std"
   ]
  },
  {
   "cell_type": "code",
   "execution_count": null,
   "id": "7f2d1ad0",
   "metadata": {},
   "outputs": [],
   "source": [
    "#Plot standard deviation to find obvious discontinuities\n",
    "\n",
    "sorted_std.plot.bar()"
   ]
  },
  {
   "cell_type": "code",
   "execution_count": null,
   "id": "95857ac4",
   "metadata": {},
   "outputs": [],
   "source": [
    "print(sorted_std.index)"
   ]
  },
  {
   "cell_type": "code",
   "execution_count": null,
   "id": "ceb9dfa8",
   "metadata": {},
   "outputs": [],
   "source": [
    "#Create two subgroups of questions to analyze\n",
    "\n",
    "cut1 = ['E7', 'N8', 'E5', 'N6', 'E3', 'N10', 'N7', 'E10', 'N1', 'E2', 'N9',\n",
    "       'E9', 'E4', 'E1', 'E6', 'A7', 'C4', 'N5', 'A9', 'A4', 'N3', 'A2', 'A5',\n",
    "       'E8', 'A6', 'C6', 'A10', 'N2', 'A8', 'A1', 'A3', 'C8', 'C5', 'C2', 'C9',\n",
    "       'N4', 'C1']\n",
    "\n",
    "cut2 = ['E7', 'N8', 'E5', 'N6', 'E3', 'N10', 'N7', 'E10', 'N1', 'E2', 'N9',\n",
    "       'E9', 'E4', 'E1', 'E6', 'A7', 'C4', 'N5', 'A9', 'A4', 'N3']\n",
    "\n",
    "brief1_df = raw_df[cut1]\n",
    "\n",
    "brief2_df = raw_df[cut2]"
   ]
  },
  {
   "cell_type": "code",
   "execution_count": null,
   "id": "ef36f678",
   "metadata": {},
   "outputs": [],
   "source": [
    "# Create cluster models for each subgroup\n",
    "\n",
    "kmeans_brief1 = KMeans(n_clusters=5)\n",
    "kmeans_brief1.fit(brief1_df)\n",
    "\n",
    "kmeans_brief2 = KMeans(n_clusters=5)\n",
    "kmeans_brief2.fit(brief2_df)\n"
   ]
  },
  {
   "cell_type": "code",
   "execution_count": null,
   "id": "71168a95",
   "metadata": {},
   "outputs": [],
   "source": [
    "#Compare silhouette scores for each subgroup to the original set\n",
    "\n",
    "brief1_labels = kmeans_brief1.labels_\n",
    "brief2_labels = kmeans_brief2.labels_\n",
    "\n",
    "print(metrics.silhouette_score(raw_df, labels, metric='euclidean'))\n",
    "print(metrics.silhouette_score(brief1_df, brief1_labels, metric='euclidean'))\n",
    "print(metrics.silhouette_score(brief2_df, brief2_labels, metric='euclidean'))"
   ]
  },
  {
   "cell_type": "code",
   "execution_count": null,
   "id": "d194917e",
   "metadata": {},
   "outputs": [],
   "source": [
    "#Test each question one by one to identify useful questions\n",
    "\n",
    "#Create data list\n",
    "\n",
    "colsToDrop = ['E7', 'N8', 'E5', 'N6', 'E3', 'N10', 'N7', 'E10', 'N1', 'E2', 'N9',\n",
    "       'E9', 'E4', 'E1', 'E6', 'A7', 'C4', 'N5', 'A9', 'A4', 'N3', 'A2', 'A5',\n",
    "       'E8', 'A6', 'C6', 'A10', 'N2', 'A8', 'A1', 'A3', 'C8', 'C5', 'C2', 'C9',\n",
    "       'N4', 'C1', 'O2', 'O10', 'O5', 'C7', 'C10', 'O7', 'C3', 'O1', 'O8',\n",
    "       'O6', 'O4', 'O9', 'O3']"
   ]
  },
  {
   "cell_type": "code",
   "execution_count": null,
   "id": "56feab64",
   "metadata": {},
   "outputs": [],
   "source": [
    "#Check other cluster counts for better coverage with different question sets\n",
    "\n",
    "clusterCount = [3,4,5,6,7,8,9,10]\n",
    "\n",
    "#Establish base silhouette scores to use as thresholds for question analysis for each cluster\n",
    "\n",
    "thresholds = []\n",
    "\n",
    "for x in clusterCount:\n",
    "\n",
    "    kmeans_control = KMeans(n_clusters=x)\n",
    "    kmeans_control.fit(raw_df)\n",
    "\n",
    "    control_labels = kmeans_control.labels_\n",
    "\n",
    "    thresholds.append(metrics.silhouette_score(raw_df, control_labels, metric=\"euclidean\"))\n",
    "\n",
    "thresholds"
   ]
  },
  {
   "cell_type": "code",
   "execution_count": null,
   "id": "8e1fde9d",
   "metadata": {},
   "outputs": [],
   "source": [
    "#establish the silhouette score threshold for each cluster\n",
    "\n",
    "threshold_df = pd.DataFrame(clusterCount, columns=[\"Clusters\"])\n",
    "threshold_df[\"Threshold\"] = thresholds\n",
    "\n",
    "threshold_df"
   ]
  },
  {
   "cell_type": "code",
   "execution_count": null,
   "id": "3dd13d78",
   "metadata": {},
   "outputs": [],
   "source": [
    "# Run a new cluster analysis for each cluster count, omitting each question one at a time, and record the resulting silhouette score\n",
    "\n",
    "scores_df = pd.DataFrame()\n",
    "scores_df[\"Question\"] = np.NaN\n",
    "scores_df[\"Score\"] = np.NaN\n",
    "scores_df[\"N\"] = np.NaN\n",
    "\n",
    "clusterCount = [3,4,5,6,7,8,9,10]\n",
    "counter = 0\n",
    "\n",
    "for x in colsToDrop:\n",
    "    test_df = raw_df.drop(columns=[x])\n",
    "    \n",
    "    for y in clusterCount:\n",
    "        kmeans_test = KMeans(n_clusters=y)\n",
    "        kmeans_test.fit(test_df)\n",
    "\n",
    "        test_labels = kmeans_test.labels_\n",
    "\n",
    "        score = metrics.silhouette_score(test_df, test_labels, metric=\"euclidean\")\n",
    "\n",
    "        newRow = pd.DataFrame({\"Question\": [x], \"Score\": [score], \"N\": [y]})\n",
    "        scores_df = pd.concat([scores_df, newRow])\n",
    "    \n",
    "scores_df"
   ]
  },
  {
   "cell_type": "code",
   "execution_count": null,
   "id": "a71e7316",
   "metadata": {},
   "outputs": [],
   "source": [
    "# For each cluster count, drop all questions where omitting the question resulted in a higher score.\n",
    "# Re-run the cluster analysis using only qualifying questions.\n",
    "# Visualize the silhouette scores for each number of clusters\n",
    "# Save results to a dataframe\n",
    "\n",
    "from yellowbrick.cluster import SilhouetteVisualizer\n",
    "\n",
    "trim_df = pd.DataFrame()\n",
    "trim_df[\"N\"] = np.NaN\n",
    "trim_df[\"Score\"] = np.NaN\n",
    "trim_df[\"Questions\"] = np.NaN\n",
    "\n",
    "\n",
    "for index, row in threshold_df.iterrows():\n",
    "    temp_df = scores_df[scores_df[\"N\"] == row[0]]\n",
    "    temp_df = temp_df[temp_df[\"Score\"] < row[1]]\n",
    "    \n",
    "    tempQuest = temp_df[\"Question\"].tolist()\n",
    "    \n",
    "    tempTrim_df = raw_df[tempQuest]\n",
    "    \n",
    "    kmeans_temp = KMeans(n_clusters=int(row[0]))\n",
    "    kmeans_temp.fit(tempTrim_df)\n",
    "\n",
    "    temp_labels = kmeans_temp.labels_    \n",
    "\n",
    "    trim_score = metrics.silhouette_score(tempTrim_df, temp_labels, metric=\"euclidean\")\n",
    "        \n",
    "    newRow = pd.DataFrame({\"N\": row[0], \"Score\": [trim_score], \"Questions\": [tempQuest]})\n",
    "    trim_df = pd.concat([trim_df, newRow])\n",
    "    \n",
    "    visualizer = SilhouetteVisualizer(kmeans_temp, colors='yellowbrick')\n",
    "    \n",
    "    visualizer.fit(tempTrim_df)\n",
    "    visualizer.show()\n",
    "    \n",
    "\n",
    "trim_df"
   ]
  },
  {
   "cell_type": "code",
   "execution_count": null,
   "id": "ef7b5da5",
   "metadata": {},
   "outputs": [],
   "source": [
    "# demographic analysis-James\n",
    "#gender, age"
   ]
  },
  {
   "cell_type": "code",
   "execution_count": null,
   "id": "ffa905f2",
   "metadata": {},
   "outputs": [],
   "source": [
    "#demographic analysis -Hai\n",
    "# country, handedness,engnat"
   ]
  },
  {
   "cell_type": "code",
   "execution_count": null,
   "id": "d15edccd",
   "metadata": {},
   "outputs": [],
   "source": [
    "# country_df = scale_df\n",
    "# country_df['country'] = data['country']\n",
    "# country_df"
   ]
  },
  {
   "cell_type": "code",
   "execution_count": null,
   "id": "c6594930",
   "metadata": {},
   "outputs": [],
   "source": [
    "age_df = scale_df\n",
    "age_df['age'] = data['age']\n",
    "age_df"
   ]
  },
  {
   "cell_type": "code",
   "execution_count": null,
   "id": "8806630d",
   "metadata": {},
   "outputs": [],
   "source": [
    "\n"
   ]
  },
  {
   "cell_type": "code",
   "execution_count": null,
   "id": "0975a477",
   "metadata": {},
   "outputs": [],
   "source": [
    "#\n",
    "#cluster0_df = age_df[age_df['cluster']==0]\n",
    "# cluster0x_df = cluster0_df.loc[:, 'E1':'O10']\n",
    "# cluster0y_df =  cluster0_df.loc[:, 'age']\n",
    "#cluster0y_df.head()\n",
    "#cluster0x_df.head()\n",
    "#cluster0_df.head()"
   ]
  },
  {
   "cell_type": "code",
   "execution_count": null,
   "id": "9ab33295",
   "metadata": {},
   "outputs": [],
   "source": [
    "cluster0_df = age_df[age_df['cluster']==0]\n",
    "cluster0_corr = cluster0_df.corr()\n",
    "cluster0_age=cluster0_corr.loc['age',:]\n",
    "\n",
    "cluster1_df = age_df[age_df['cluster']==1]\n",
    "cluster1_corr = cluster1_df.corr()\n",
    "cluster1_age=cluster1_corr.loc['age',:]\n",
    "\n",
    "cluster2_df = age_df[age_df['cluster']==2]\n",
    "cluster2_corr = cluster2_df.corr()\n",
    "cluster2_age=cluster2_corr.loc['age',:]\n",
    "\n",
    "cluster3_df = age_df[age_df['cluster']==3]\n",
    "cluster3_corr = cluster3_df.corr()\n",
    "cluster3_age=cluster3_corr.loc['age',:]\n",
    "\n",
    "cluster4_df = age_df[age_df['cluster']==4]\n",
    "cluster4_corr = cluster4_df.corr()\n",
    "cluster4_age=cluster4_corr.loc['age',:]\n",
    "\n",
    "combine_age_df = pd.DataFrame({'cluster0':cluster0_age,'cluster1':cluster1_age,'cluster2':cluster2_age,'cluster3':cluster3_age,'cluster4':cluster4_age})\n",
    "combine_age_df.head()"
   ]
  },
  {
   "cell_type": "code",
   "execution_count": null,
   "id": "0d73cb36",
   "metadata": {},
   "outputs": [],
   "source": [
    "combine_age_df = pd.DataFrame({'cluster0':cluster0_age,'cluster1':cluster1_age,'cluster2':cluster2_age,'cluster3':cluster3_age,'cluster4':cluster4_age})\n",
    "combine_age_df.head()\n"
   ]
  },
  {
   "cell_type": "code",
   "execution_count": null,
   "id": "3e93c274",
   "metadata": {},
   "outputs": [],
   "source": [
    "engnat_df = scale_df\n",
    "engnat_df['engnat'] = data['engnat']\n",
    "engnat_df=engnat_df.drop(['age'],axis =1)\n",
    "engnat_df"
   ]
  },
  {
   "cell_type": "code",
   "execution_count": null,
   "id": "54e10cbd",
   "metadata": {},
   "outputs": [],
   "source": [
    "cluster0_df = engnat_df[engnat_df['cluster']==0]\n",
    "cluster0_corr = cluster0_df.corr()\n",
    "cluster0_engnat=cluster0_corr.loc['engnat',:]\n",
    "\n",
    "cluster1_df = engnat_df[engnat_df['cluster']==1]\n",
    "cluster1_corr = cluster1_df.corr()\n",
    "cluster1_engnat=cluster1_corr.loc['engnat',:]\n",
    "\n",
    "cluster2_df = engnat_df[engnat_df['cluster']==2]\n",
    "cluster2_corr = cluster2_df.corr()\n",
    "cluster2_engnat=cluster2_corr.loc['engnat',:]\n",
    "\n",
    "cluster3_df = engnat_df[engnat_df['cluster']==3]\n",
    "cluster3_corr = cluster3_df.corr()\n",
    "cluster3_engnat=cluster3_corr.loc['engnat',:]\n",
    "\n",
    "cluster4_df = engnat_df[engnat_df['cluster']==4]\n",
    "cluster4_corr = cluster4_df.corr()\n",
    "cluster4_engnat=cluster4_corr.loc['engnat',:]\n",
    "\n",
    "combine_engnat_df = pd.DataFrame({'cluster0':cluster0_engnat,'cluster1':cluster1_engnat,'cluster2':cluster2_engnat,'cluster3':cluster3_engnat,'cluster4':cluster4_engnat})\n",
    "combine_engnat_df.head()\n"
   ]
  },
  {
   "cell_type": "code",
   "execution_count": null,
   "id": "a9caabb0",
   "metadata": {},
   "outputs": [],
   "source": [
    "\n",
    "race_df = scale_df\n",
    "race_df['race'] = data['race']\n",
    "race_df=race_df.drop(['age','engnat'],axis =1)\n",
    "race_df"
   ]
  },
  {
   "cell_type": "code",
   "execution_count": null,
   "id": "271ee0f3",
   "metadata": {},
   "outputs": [],
   "source": [
    "cluster0_df = race_df[race_df['cluster']==0]\n",
    "cluster0_corr = cluster0_df.corr()\n",
    "cluster0_race=cluster0_corr.loc['race',:]\n",
    "\n",
    "cluster1_df = race_df[race_df['race']==1]\n",
    "cluster1_corr = cluster1_df.corr()\n",
    "cluster1_race=cluster1_corr.loc['race',:]\n",
    "\n",
    "cluster2_df = race_df[race_df['cluster']==2]\n",
    "cluster2_corr = cluster2_df.corr()\n",
    "cluster2_race=cluster2_corr.loc['race',:]\n",
    "\n",
    "cluster3_df = race_df[race_df['cluster']==3]\n",
    "cluster3_corr = cluster3_df.corr()\n",
    "cluster3_race=cluster3_corr.loc['race',:]\n",
    "\n",
    "cluster4_df = race_df[race_df['cluster']==4]\n",
    "cluster4_corr = cluster4_df.corr()\n",
    "cluster4_race=cluster4_corr.loc['race',:]\n",
    "\n",
    "combine_race_df = pd.DataFrame({'cluster0':cluster0_race,'cluster1':cluster1_race,'cluster2':cluster2_race,'cluster3':cluster3_race,'cluster4':cluster4_race})\n",
    "combine_race_df.head()"
   ]
  },
  {
   "cell_type": "code",
   "execution_count": null,
   "id": "afc15721",
   "metadata": {},
   "outputs": [],
   "source": [
    "gender_df = scale_df\n",
    "gender_df['gender'] = data['gender']\n",
    "gender_df=gender_df.drop(['age','engnat','race'],axis =1)\n",
    "gender_df"
   ]
  },
  {
   "cell_type": "code",
   "execution_count": null,
   "id": "b3cb3764",
   "metadata": {},
   "outputs": [],
   "source": [
    "cluster0_df = gender_df[gender_df['cluster']==0]\n",
    "cluster0_corr = cluster0_df.corr()\n",
    "cluster0_gender=cluster0_corr.loc['gender',:]\n",
    "\n",
    "cluster1_df = gender_df[gender_df['cluster']==1]\n",
    "cluster1_corr = cluster1_df.corr()\n",
    "cluster1_gender=cluster1_corr.loc['gender',:]\n",
    "\n",
    "cluster2_df = gender_df[gender_df['cluster']==2]\n",
    "cluster2_corr = cluster2_df.corr()\n",
    "cluster2_gender=cluster2_corr.loc['gender',:]\n",
    "\n",
    "cluster3_df = gender_df[gender_df['cluster']==3]\n",
    "cluster3_corr = cluster3_df.corr()\n",
    "cluster3_gender=cluster3_corr.loc['gender',:]\n",
    "\n",
    "cluster4_df = gender_df[gender_df['cluster']==4]\n",
    "cluster4_corr = cluster4_df.corr()\n",
    "cluster4_gender=cluster4_corr.loc['gender',:]\n",
    "#cluster1_gender.head()\n",
    "combine_gender_df = pd.DataFrame({'cluster0':cluster0_gender,'cluster1':cluster1_gender,'cluster2':cluster2_gender,'cluster3':cluster3_gender,'cluster4':cluster4_gender})\n",
    "combine_gender_df.head()"
   ]
  },
  {
   "cell_type": "code",
   "execution_count": null,
   "id": "308f38b6",
   "metadata": {},
   "outputs": [],
   "source": [
    "hand_df = scale_df\n",
    "hand_df['hand'] = data['hand']\n",
    "hand_df=hand_df.drop(['age','engnat','race','gender'],axis =1)\n",
    "hand_df"
   ]
  },
  {
   "cell_type": "code",
   "execution_count": null,
   "id": "8bbee1d6",
   "metadata": {},
   "outputs": [],
   "source": [
    "cluster0_df = hand_df[hand_df['cluster']==0]\n",
    "cluster0_corr = cluster0_df.corr()\n",
    "cluster0_hand=cluster0_corr.loc['hand',:]\n",
    "\n",
    "cluster1_df = hand_df[hand_df['cluster']==1]\n",
    "cluster1_corr = cluster1_df.corr()\n",
    "cluster1_hand=cluster1_corr.loc['hand',:]\n",
    "\n",
    "cluster2_df = hand_df[hand_df['cluster']==2]\n",
    "cluster2_corr = cluster2_df.corr()\n",
    "cluster2_hand=cluster2_corr.loc['hand',:]\n",
    "\n",
    "cluster3_df = hand_df[hand_df['cluster']==3]\n",
    "cluster3_corr = cluster3_df.corr()\n",
    "cluster3_hand=cluster3_corr.loc['hand',:]\n",
    "\n",
    "cluster4_df = hand_df[hand_df['cluster']==4]\n",
    "cluster4_corr = cluster4_df.corr()\n",
    "cluster4_hand=cluster4_corr.loc['hand',:]\n",
    "\n",
    "combine_hand_df = pd.DataFrame({'cluster0':cluster0_hand,'cluster1':cluster1_hand,'cluster2':cluster2_hand,'cluster3':cluster3_hand,'cluster4':cluster4_hand})\n",
    "combine_hand_df.head()"
   ]
  },
  {
   "cell_type": "code",
   "execution_count": null,
   "id": "4bd9d518",
   "metadata": {},
   "outputs": [],
   "source": []
  },
  {
   "cell_type": "code",
   "execution_count": null,
   "id": "84d7562a",
   "metadata": {},
   "outputs": [],
   "source": []
  },
  {
   "cell_type": "code",
   "execution_count": null,
   "id": "07e26808",
   "metadata": {},
   "outputs": [],
   "source": []
  },
  {
   "cell_type": "code",
   "execution_count": null,
   "id": "96d34260",
   "metadata": {},
   "outputs": [],
   "source": []
  },
  {
   "cell_type": "code",
   "execution_count": null,
   "id": "339ef765",
   "metadata": {},
   "outputs": [],
   "source": []
  },
  {
   "cell_type": "code",
   "execution_count": null,
   "id": "fe6b6317",
   "metadata": {},
   "outputs": [],
   "source": []
  },
  {
   "cell_type": "code",
   "execution_count": null,
   "id": "7f8b46e7",
   "metadata": {},
   "outputs": [],
   "source": []
  },
  {
   "cell_type": "code",
   "execution_count": null,
   "id": "93f2547f",
   "metadata": {},
   "outputs": [],
   "source": []
  },
  {
   "cell_type": "code",
   "execution_count": null,
   "id": "37b9b5df",
   "metadata": {},
   "outputs": [],
   "source": []
  },
  {
   "cell_type": "code",
   "execution_count": null,
   "id": "11ab2fb6",
   "metadata": {},
   "outputs": [],
   "source": []
  },
  {
   "cell_type": "code",
   "execution_count": null,
   "id": "4e3c6827",
   "metadata": {},
   "outputs": [],
   "source": []
  },
  {
   "cell_type": "code",
   "execution_count": null,
   "id": "2c07290b",
   "metadata": {},
   "outputs": [],
   "source": []
  },
  {
   "cell_type": "code",
   "execution_count": null,
   "id": "9b50cd2b",
   "metadata": {},
   "outputs": [],
   "source": []
  },
  {
   "cell_type": "code",
   "execution_count": null,
   "id": "c746c421",
   "metadata": {},
   "outputs": [],
   "source": []
  },
  {
   "cell_type": "code",
   "execution_count": null,
   "id": "16cd94dd",
   "metadata": {},
   "outputs": [],
   "source": []
  },
  {
   "cell_type": "code",
   "execution_count": null,
   "id": "da390e0b",
   "metadata": {},
   "outputs": [],
   "source": []
  },
  {
   "cell_type": "code",
   "execution_count": null,
   "id": "cf110e09",
   "metadata": {},
   "outputs": [],
   "source": []
  },
  {
   "cell_type": "code",
   "execution_count": null,
   "id": "65158be2",
   "metadata": {},
   "outputs": [],
   "source": []
  }
 ],
 "metadata": {
  "kernelspec": {
   "display_name": "Python 3",
   "language": "python",
   "name": "python3"
  },
  "language_info": {
   "codemirror_mode": {
    "name": "ipython",
    "version": 3
   },
   "file_extension": ".py",
   "mimetype": "text/x-python",
   "name": "python",
   "nbconvert_exporter": "python",
   "pygments_lexer": "ipython3",
   "version": "3.8.8"
  }
 },
 "nbformat": 4,
 "nbformat_minor": 5
}
