{
 "cells": [
  {
   "cell_type": "code",
   "execution_count": null,
   "id": "68f7e723",
   "metadata": {},
   "outputs": [],
   "source": [
    "# https://en.wikipedia.org/wiki/Big_Five_personality_traits\n",
    "# https://ipip.ori.org/newBigFive5broadKey.htm"
   ]
  },
  {
   "cell_type": "code",
   "execution_count": null,
   "id": "a5d5564c",
   "metadata": {},
   "outputs": [],
   "source": [
    "import pandas as pd\n",
    "import matplotlib.pyplot as plt\n",
    "import numpy as np"
   ]
  },
  {
   "cell_type": "code",
   "execution_count": null,
   "id": "c0f938cb",
   "metadata": {},
   "outputs": [],
   "source": [
    "file_to_open = pd.read_csv(\"Resources/data.csv\", delimiter=\"\\t\")\n",
    "data=file_to_open.copy()\n",
    "data.head()"
   ]
  },
  {
   "cell_type": "code",
   "execution_count": null,
   "id": "b3e46ec6",
   "metadata": {},
   "outputs": [],
   "source": [
    "data.shape"
   ]
  },
  {
   "cell_type": "code",
   "execution_count": null,
   "id": "4ad90564",
   "metadata": {},
   "outputs": [],
   "source": [
    "data.columns"
   ]
  },
  {
   "cell_type": "code",
   "execution_count": null,
   "id": "b7dbb55f",
   "metadata": {},
   "outputs": [],
   "source": [
    "data.isnull().values.any()"
   ]
  },
  {
   "cell_type": "code",
   "execution_count": null,
   "id": "5b052ba6",
   "metadata": {},
   "outputs": [],
   "source": [
    "data.isnull().sum()"
   ]
  },
  {
   "cell_type": "code",
   "execution_count": null,
   "id": "bc4ecdd1",
   "metadata": {},
   "outputs": [],
   "source": [
    "data.dropna(inplace=True)"
   ]
  },
  {
   "cell_type": "code",
   "execution_count": null,
   "id": "0f1a4f85",
   "metadata": {},
   "outputs": [],
   "source": [
    "print(f\"Number of participants: {len(data)}\")"
   ]
  },
  {
   "cell_type": "code",
   "execution_count": null,
   "id": "a4ea3ff5",
   "metadata": {},
   "outputs": [],
   "source": [
    "data.age.value_counts()"
   ]
  },
  {
   "cell_type": "code",
   "execution_count": null,
   "id": "7b43b373",
   "metadata": {},
   "outputs": [],
   "source": [
    "# calculate maximum year we're looking for in the data\n",
    "max_year = 2012-13\n",
    "print(f\"Youngest participient's date of birth: {max_year}\")"
   ]
  },
  {
   "cell_type": "code",
   "execution_count": null,
   "id": "e95ff3a6",
   "metadata": {},
   "outputs": [],
   "source": [
    "data= data.loc[data[\"age\"]<2000]\n",
    "data.head()"
   ]
  },
  {
   "cell_type": "code",
   "execution_count": null,
   "id": "05dc71ac",
   "metadata": {},
   "outputs": [],
   "source": [
    "data[\"age\"] = [2012-x if x >1960 else x for x in data[\"age\"]]\n",
    "data= data.loc[data[\"age\"]<=120]\n",
    "data.head()"
   ]
  },
  {
   "cell_type": "code",
   "execution_count": null,
   "id": "17e0e764",
   "metadata": {},
   "outputs": [],
   "source": [
    "data.age.sort_values(ascending=False) "
   ]
  },
  {
   "cell_type": "code",
   "execution_count": null,
   "id": "aa9907e9",
   "metadata": {},
   "outputs": [],
   "source": [
    "data.describe()"
   ]
  },
  {
   "cell_type": "code",
   "execution_count": null,
   "id": "f752ffb3",
   "metadata": {},
   "outputs": [],
   "source": [
    "# data.dtypes"
   ]
  },
  {
   "cell_type": "code",
   "execution_count": null,
   "id": "721ba3c5",
   "metadata": {},
   "outputs": [],
   "source": [
    "data.country.value_counts()"
   ]
  },
  {
   "cell_type": "code",
   "execution_count": null,
   "id": "ec903cbf",
   "metadata": {},
   "outputs": [],
   "source": [
    "data.country.value_counts().mean()"
   ]
  },
  {
   "cell_type": "code",
   "execution_count": null,
   "id": "4dc5b625",
   "metadata": {},
   "outputs": [],
   "source": [
    "countries = pd.DataFrame(data[\"country\"].value_counts())\n",
    "c_125= countries.loc[countries[\"country\"]>125]\n",
    "plt.bar(c_125.index,c_125[\"country\"])\n",
    "plt.show()"
   ]
  },
  {
   "cell_type": "code",
   "execution_count": null,
   "id": "82140c97",
   "metadata": {},
   "outputs": [],
   "source": [
    "c_125.nunique()"
   ]
  },
  {
   "cell_type": "code",
   "execution_count": null,
   "id": "6cd57cb6",
   "metadata": {},
   "outputs": [],
   "source": [
    "# Recheck how many cluster we should have as maximum\n",
    "from sklearn.preprocessing import MinMaxScaler\n",
    "\n",
    "df = data.drop(\"country\", axis=1)\n",
    "trim_df = df.drop(df.columns[:6], axis=1)\n",
    "columns = list(trim_df.columns)\n",
    "scaler = MinMaxScaler(feature_range=(0,1))\n",
    "scale_df = scaler.fit_transform(trim_df)\n",
    "scale_df = pd.DataFrame(scale_df, columns=columns)\n",
    "scale_df.head()"
   ]
  },
  {
   "cell_type": "code",
   "execution_count": null,
   "id": "2fce74ee",
   "metadata": {},
   "outputs": [],
   "source": [
    "#Elbow Method \n",
    "from sklearn.cluster import KMeans\n",
    "from yellowbrick.cluster import KElbowVisualizer\n",
    "\n",
    "kmeans = KMeans()\n",
    "visualizer = KElbowVisualizer(kmeans, k=(2,15))\n",
    "visualizer.fit(df)\n",
    "visualizer.poof()"
   ]
  },
  {
   "cell_type": "code",
   "execution_count": null,
   "id": "9c834b2e",
   "metadata": {},
   "outputs": [],
   "source": [
    "# cluster analysis- Aysin"
   ]
  },
  {
   "cell_type": "code",
   "execution_count": null,
   "id": "84d4e922",
   "metadata": {},
   "outputs": [],
   "source": [
    "from sklearn.cluster import KMeans\n",
    "kmeans = KMeans(n_clusters=5)"
   ]
  },
  {
   "cell_type": "code",
   "execution_count": null,
   "id": "4c9ffc4c",
   "metadata": {},
   "outputs": [],
   "source": [
    "kmeans.fit(scale_df)"
   ]
  },
  {
   "cell_type": "code",
   "execution_count": null,
   "id": "d688127c",
   "metadata": {},
   "outputs": [],
   "source": [
    "predicted_clusters = kmeans.predict(scale_df)"
   ]
  },
  {
   "cell_type": "code",
   "execution_count": null,
   "id": "5798ca18",
   "metadata": {},
   "outputs": [],
   "source": [
    "centers = kmeans.cluster_centers_\n",
    "labels = kmeans.labels_\n",
    "labels"
   ]
  },
  {
   "cell_type": "code",
   "execution_count": null,
   "id": "63a3f5fb",
   "metadata": {},
   "outputs": [],
   "source": [
    "len(labels)"
   ]
  },
  {
   "cell_type": "code",
   "execution_count": null,
   "id": "4f775eba",
   "metadata": {},
   "outputs": [],
   "source": [
    "centers"
   ]
  },
  {
   "cell_type": "code",
   "execution_count": null,
   "id": "3abe173b",
   "metadata": {},
   "outputs": [],
   "source": [
    "# scale_df = scale_df.add(labels)\n",
    "scale_df['cluster'] = labels.tolist()\n",
    "scale_df.head()"
   ]
  },
  {
   "cell_type": "code",
   "execution_count": null,
   "id": "6dfb4e41",
   "metadata": {},
   "outputs": [],
   "source": [
    "# analysis of the clusters- Michael"
   ]
  },
  {
   "cell_type": "code",
   "execution_count": null,
   "id": "91dae23f",
   "metadata": {},
   "outputs": [],
   "source": [
    "# analysis of the questions- Stephen\n",
    "# mean response of the questions"
   ]
  },
  {
   "cell_type": "code",
   "execution_count": null,
   "id": "ef7b5da5",
   "metadata": {},
   "outputs": [],
   "source": [
    "# demographic analysis-James\n",
    "#gender, age"
   ]
  },
  {
   "cell_type": "code",
   "execution_count": null,
   "id": "ffa905f2",
   "metadata": {},
   "outputs": [],
   "source": [
    "#demographic analysis -Hai\n",
    "# country, handedness,engnat"
   ]
  },
  {
   "cell_type": "code",
   "execution_count": null,
   "id": "d15edccd",
   "metadata": {},
   "outputs": [],
   "source": []
  }
 ],
 "metadata": {
  "kernelspec": {
   "display_name": "Python 3",
   "language": "python",
   "name": "python3"
  },
  "language_info": {
   "codemirror_mode": {
    "name": "ipython",
    "version": 3
   },
   "file_extension": ".py",
   "mimetype": "text/x-python",
   "name": "python",
   "nbconvert_exporter": "python",
   "pygments_lexer": "ipython3",
   "version": "3.8.8"
  }
 },
 "nbformat": 4,
 "nbformat_minor": 5
}
