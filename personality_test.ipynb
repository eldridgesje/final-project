{
 "cells": [
  {
   "cell_type": "code",
   "execution_count": null,
   "id": "68f7e723",
   "metadata": {},
   "outputs": [],
   "source": [
    "# https://en.wikipedia.org/wiki/Big_Five_personality_traits\n",
    "# https://ipip.ori.org/newBigFive5broadKey.htm"
   ]
  },
  {
   "cell_type": "code",
   "execution_count": null,
   "id": "a5d5564c",
   "metadata": {},
   "outputs": [],
   "source": [
    "import pandas as pd\n",
    "import matplotlib.pyplot as plt\n",
    "import numpy as np\n",
    "import seaborn as sns\n",
    "%matplotlib inline"
   ]
  },
  {
   "cell_type": "code",
   "execution_count": null,
   "id": "c0f938cb",
   "metadata": {},
   "outputs": [],
   "source": [
    "file_to_open = pd.read_csv(\"Resources/data.csv\", delimiter=\"\\t\")\n",
    "data=file_to_open.copy()\n",
    "data.head()"
   ]
  },
  {
   "cell_type": "code",
   "execution_count": null,
   "id": "b3e46ec6",
   "metadata": {},
   "outputs": [],
   "source": [
    "data.shape"
   ]
  },
  {
   "cell_type": "code",
   "execution_count": null,
   "id": "4ad90564",
   "metadata": {},
   "outputs": [],
   "source": [
    "data.columns"
   ]
  },
  {
   "cell_type": "code",
   "execution_count": null,
   "id": "b7dbb55f",
   "metadata": {},
   "outputs": [],
   "source": [
    "data.isnull().values.any()"
   ]
  },
  {
   "cell_type": "code",
   "execution_count": null,
   "id": "5b052ba6",
   "metadata": {},
   "outputs": [],
   "source": [
    "data.isnull().sum()"
   ]
  },
  {
   "cell_type": "code",
   "execution_count": null,
   "id": "bc4ecdd1",
   "metadata": {},
   "outputs": [],
   "source": [
    "data.dropna(inplace=True)"
   ]
  },
  {
   "cell_type": "code",
   "execution_count": null,
   "id": "0f1a4f85",
   "metadata": {},
   "outputs": [],
   "source": [
    "print(f\"Number of participants: {len(data)}\")"
   ]
  },
  {
   "cell_type": "code",
   "execution_count": null,
   "id": "a4ea3ff5",
   "metadata": {},
   "outputs": [],
   "source": [
    "data.age.value_counts()"
   ]
  },
  {
   "cell_type": "code",
   "execution_count": null,
   "id": "7b43b373",
   "metadata": {},
   "outputs": [],
   "source": [
    "# calculate maximum year we're looking for in the data\n",
    "max_year = 2012-13\n",
    "print(f\"Youngest participient's date of birth: {max_year}\")"
   ]
  },
  {
   "cell_type": "code",
   "execution_count": null,
   "id": "e95ff3a6",
   "metadata": {},
   "outputs": [],
   "source": [
    "data= data.loc[data[\"age\"]<2000]\n",
    "data.head()"
   ]
  },
  {
   "cell_type": "code",
   "execution_count": null,
   "id": "05dc71ac",
   "metadata": {},
   "outputs": [],
   "source": [
    "data[\"age\"] = [2012-x if x >1960 else x for x in data[\"age\"]]\n",
    "data= data.loc[data[\"age\"]<=120]\n",
    "data.head()"
   ]
  },
  {
   "cell_type": "code",
   "execution_count": null,
   "id": "17e0e764",
   "metadata": {},
   "outputs": [],
   "source": [
    "data.age.sort_values(ascending=False) "
   ]
  },
  {
   "cell_type": "code",
   "execution_count": null,
   "id": "aa9907e9",
   "metadata": {},
   "outputs": [],
   "source": [
    "data.describe()"
   ]
  },
  {
   "cell_type": "code",
   "execution_count": null,
   "id": "f752ffb3",
   "metadata": {},
   "outputs": [],
   "source": [
    "# data.dtypes"
   ]
  },
  {
   "cell_type": "code",
   "execution_count": null,
   "id": "77fa8b6a",
   "metadata": {},
   "outputs": [],
   "source": [
    "data.corr()"
   ]
  },
  {
   "cell_type": "code",
   "execution_count": null,
   "id": "721ba3c5",
   "metadata": {},
   "outputs": [],
   "source": [
    "data.country.value_counts()"
   ]
  },
  {
   "cell_type": "code",
   "execution_count": null,
   "id": "ec903cbf",
   "metadata": {},
   "outputs": [],
   "source": [
    "data.country.value_counts().mean()"
   ]
  },
  {
   "cell_type": "code",
   "execution_count": null,
   "id": "4dc5b625",
   "metadata": {},
   "outputs": [],
   "source": [
    "countries = pd.DataFrame(data[\"country\"].value_counts())\n",
    "c_125= countries.loc[countries[\"country\"]>125]\n",
    "plt.bar(c_125.index,c_125[\"country\"])\n",
    "plt.show()"
   ]
  },
  {
   "cell_type": "code",
   "execution_count": null,
   "id": "82140c97",
   "metadata": {},
   "outputs": [],
   "source": [
    "c_125.nunique()"
   ]
  },
  {
   "cell_type": "code",
   "execution_count": null,
   "id": "6cd57cb6",
   "metadata": {},
   "outputs": [],
   "source": [
    "# Recheck how many cluster we should have as maximum\n",
    "from sklearn.preprocessing import MinMaxScaler\n",
    "\n",
    "df = data.drop(\"country\", axis=1)\n",
    "trim_df = df.drop(df.columns[:6], axis=1)\n",
    "columns = list(trim_df.columns)\n",
    "scaler = MinMaxScaler(feature_range=(0,1))\n",
    "scale_df = scaler.fit_transform(trim_df)\n",
    "scale_df = pd.DataFrame(scale_df, columns=columns)\n",
    "scale_df.head()"
   ]
  },
  {
   "cell_type": "code",
   "execution_count": null,
   "id": "2fce74ee",
   "metadata": {},
   "outputs": [],
   "source": [
    "#Elbow Method \n",
    "from sklearn.cluster import KMeans\n",
    "from yellowbrick.cluster import KElbowVisualizer\n",
    "\n",
    "kmeans = KMeans()\n",
    "visualizer = KElbowVisualizer(kmeans, k=(2,15))\n",
    "visualizer.fit(df)\n",
    "visualizer.poof()"
   ]
  },
  {
   "cell_type": "code",
   "execution_count": null,
   "id": "9c834b2e",
   "metadata": {},
   "outputs": [],
   "source": [
    "# cluster analysis- Aysin"
   ]
  },
  {
   "cell_type": "code",
   "execution_count": null,
   "id": "84d4e922",
   "metadata": {},
   "outputs": [],
   "source": [
    "from sklearn.cluster import KMeans\n",
    "kmeans = KMeans(n_clusters=5)"
   ]
  },
  {
   "cell_type": "code",
   "execution_count": null,
   "id": "4c9ffc4c",
   "metadata": {},
   "outputs": [],
   "source": [
    "kmeans.fit(scale_df)"
   ]
  },
  {
   "cell_type": "code",
   "execution_count": null,
   "id": "d688127c",
   "metadata": {},
   "outputs": [],
   "source": [
    "predicted_clusters = kmeans.predict(scale_df)"
   ]
  },
  {
   "cell_type": "code",
   "execution_count": null,
   "id": "5798ca18",
   "metadata": {},
   "outputs": [],
   "source": [
    "centers = kmeans.cluster_centers_\n",
    "labels = kmeans.labels_\n",
    "labels"
   ]
  },
  {
   "cell_type": "code",
   "execution_count": null,
   "id": "63a3f5fb",
   "metadata": {},
   "outputs": [],
   "source": [
    "len(labels)"
   ]
  },
  {
   "cell_type": "code",
   "execution_count": null,
   "id": "4f775eba",
   "metadata": {},
   "outputs": [],
   "source": [
    "centers"
   ]
  },
  {
   "cell_type": "code",
   "execution_count": null,
   "id": "3abe173b",
   "metadata": {},
   "outputs": [],
   "source": [
    "# scale_df = scale_df.add(labels)\n",
    "scale_df['cluster'] = labels.tolist()\n",
    "scale_df"
   ]
  },
  {
   "cell_type": "code",
   "execution_count": null,
   "id": "6dfb4e41",
   "metadata": {},
   "outputs": [],
   "source": [
    "# analysis of the clusters- Michael"
   ]
  },
  {
   "cell_type": "code",
   "execution_count": null,
   "id": "91dae23f",
   "metadata": {},
   "outputs": [],
   "source": [
    "# analysis of the questions- Stephen\n",
    "# mean response of the questions"
   ]
  },
  {
   "cell_type": "code",
   "execution_count": null,
   "id": "ef7b5da5",
   "metadata": {},
   "outputs": [],
   "source": [
    "# demographic analysis-James\n",
    "#gender, age"
   ]
  },
  {
   "cell_type": "code",
   "execution_count": null,
   "id": "ffa905f2",
   "metadata": {},
   "outputs": [],
   "source": [
    "#demographic analysis -Hai\n",
    "# country, handedness,engnat"
   ]
  },
  {
   "cell_type": "code",
   "execution_count": null,
   "id": "d15edccd",
   "metadata": {},
   "outputs": [],
   "source": [
    "# country_df = scale_df\n",
    "# country_df['country'] = data['country']\n",
    "# country_df"
   ]
  },
  {
   "cell_type": "code",
   "execution_count": null,
   "id": "c6594930",
   "metadata": {},
   "outputs": [],
   "source": [
    "age_df = scale_df\n",
    "age_df['age'] = data['age']\n",
    "age_df"
   ]
  },
  {
   "cell_type": "code",
   "execution_count": null,
   "id": "8806630d",
   "metadata": {},
   "outputs": [],
   "source": [
    "\n"
   ]
  },
  {
   "cell_type": "code",
   "execution_count": null,
   "id": "0975a477",
   "metadata": {},
   "outputs": [],
   "source": [
    "#\n",
    "#cluster0_df = age_df[age_df['cluster']==0]\n",
    "# cluster0x_df = cluster0_df.loc[:, 'E1':'O10']\n",
    "# cluster0y_df =  cluster0_df.loc[:, 'age']\n",
    "#cluster0y_df.head()\n",
    "#cluster0x_df.head()\n",
    "#cluster0_df.head()"
   ]
  },
  {
   "cell_type": "code",
   "execution_count": null,
   "id": "9ab33295",
   "metadata": {},
   "outputs": [],
   "source": [
    "cluster0_df = age_df[age_df['cluster']==0]\n",
    "cluster0_corr = cluster0_df.corr()\n",
    "cluster0_age=cluster0_corr.loc['age',:]\n",
    "\n",
    "cluster1_df = age_df[age_df['cluster']==1]\n",
    "cluster1_corr = cluster1_df.corr()\n",
    "cluster1_age=cluster1_corr.loc['age',:]\n",
    "\n",
    "cluster2_df = age_df[age_df['cluster']==2]\n",
    "cluster2_corr = cluster2_df.corr()\n",
    "cluster2_age=cluster2_corr.loc['age',:]\n",
    "\n",
    "cluster3_df = age_df[age_df['cluster']==3]\n",
    "cluster3_corr = cluster3_df.corr()\n",
    "cluster3_age=cluster3_corr.loc['age',:]\n",
    "\n",
    "cluster4_df = age_df[age_df['cluster']==4]\n",
    "cluster4_corr = cluster4_df.corr()\n",
    "cluster4_age=cluster4_corr.loc['age',:]\n",
    "\n",
    "combine_age_df = pd.DataFrame({'cluster0':cluster0_age,'cluster1':cluster1_age,'cluster2':cluster2_age,'cluster3':cluster3_age,'cluster4':cluster4_age})\n",
    "combine_age_df.head()"
   ]
  },
  {
   "cell_type": "code",
   "execution_count": null,
   "id": "0d73cb36",
   "metadata": {},
   "outputs": [],
   "source": [
    "combine_age_df = pd.DataFrame({'cluster0':cluster0_age,'cluster1':cluster1_age,'cluster2':cluster2_age,'cluster3':cluster3_age,'cluster4':cluster4_age})\n",
    "combine_age_df.head()\n"
   ]
  },
  {
   "cell_type": "code",
   "execution_count": null,
   "id": "3e93c274",
   "metadata": {},
   "outputs": [],
   "source": [
    "engnat_df = scale_df\n",
    "engnat_df['engnat'] = data['engnat']\n",
    "engnat_df=engnat_df.drop(['age'],axis =1)\n",
    "engnat_df"
   ]
  },
  {
   "cell_type": "code",
   "execution_count": null,
   "id": "54e10cbd",
   "metadata": {},
   "outputs": [],
   "source": [
    "cluster0_df = engnat_df[engnat_df['cluster']==0]\n",
    "cluster0_corr = cluster0_df.corr()\n",
    "cluster0_engnat=cluster0_corr.loc['engnat',:]\n",
    "\n",
    "cluster1_df = engnat_df[engnat_df['cluster']==1]\n",
    "cluster1_corr = cluster1_df.corr()\n",
    "cluster1_engnat=cluster1_corr.loc['engnat',:]\n",
    "\n",
    "cluster2_df = engnat_df[engnat_df['cluster']==2]\n",
    "cluster2_corr = cluster2_df.corr()\n",
    "cluster2_engnat=cluster2_corr.loc['engnat',:]\n",
    "\n",
    "cluster3_df = engnat_df[engnat_df['cluster']==3]\n",
    "cluster3_corr = cluster3_df.corr()\n",
    "cluster3_engnat=cluster3_corr.loc['engnat',:]\n",
    "\n",
    "cluster4_df = engnat_df[engnat_df['cluster']==4]\n",
    "cluster4_corr = cluster4_df.corr()\n",
    "cluster4_engnat=cluster4_corr.loc['engnat',:]\n",
    "\n",
    "combine_engnat_df = pd.DataFrame({'cluster0':cluster0_engnat,'cluster1':cluster1_engnat,'cluster2':cluster2_engnat,'cluster3':cluster3_engnat,'cluster4':cluster4_engnat})\n",
    "combine_engnat_df.head()\n"
   ]
  },
  {
   "cell_type": "code",
   "execution_count": null,
   "id": "a9caabb0",
   "metadata": {},
   "outputs": [],
   "source": [
    "\n",
    "race_df = scale_df\n",
    "race_df['race'] = data['race']\n",
    "race_df=race_df.drop(['age','engnat'],axis =1)\n",
    "race_df"
   ]
  },
  {
   "cell_type": "code",
   "execution_count": null,
   "id": "271ee0f3",
   "metadata": {},
   "outputs": [],
   "source": [
    "cluster0_df = race_df[race_df['cluster']==0]\n",
    "cluster0_corr = cluster0_df.corr()\n",
    "cluster0_race=cluster0_corr.loc['race',:]\n",
    "\n",
    "cluster1_df = race_df[race_df['race']==1]\n",
    "cluster1_corr = cluster1_df.corr()\n",
    "cluster1_race=cluster1_corr.loc['race',:]\n",
    "\n",
    "cluster2_df = race_df[race_df['cluster']==2]\n",
    "cluster2_corr = cluster2_df.corr()\n",
    "cluster2_race=cluster2_corr.loc['race',:]\n",
    "\n",
    "cluster3_df = race_df[race_df['cluster']==3]\n",
    "cluster3_corr = cluster3_df.corr()\n",
    "cluster3_race=cluster3_corr.loc['race',:]\n",
    "\n",
    "cluster4_df = race_df[race_df['cluster']==4]\n",
    "cluster4_corr = cluster4_df.corr()\n",
    "cluster4_race=cluster4_corr.loc['race',:]\n",
    "\n",
    "combine_race_df = pd.DataFrame({'cluster0':cluster0_race,'cluster1':cluster1_race,'cluster2':cluster2_race,'cluster3':cluster3_race,'cluster4':cluster4_race})\n",
    "combine_race_df.head()"
   ]
  },
  {
   "cell_type": "code",
   "execution_count": null,
   "id": "afc15721",
   "metadata": {},
   "outputs": [],
   "source": [
    "gender_df = scale_df\n",
    "gender_df['gender'] = data['gender']\n",
    "gender_df=gender_df.drop(['age','engnat','race'],axis =1)\n",
    "gender_df"
   ]
  },
  {
   "cell_type": "code",
   "execution_count": null,
   "id": "b3cb3764",
   "metadata": {},
   "outputs": [],
   "source": [
    "cluster0_df = gender_df[gender_df['cluster']==0]\n",
    "cluster0_corr = cluster0_df.corr()\n",
    "cluster0_gender=cluster0_corr.loc['gender',:]\n",
    "\n",
    "cluster1_df = gender_df[gender_df['cluster']==1]\n",
    "cluster1_corr = cluster1_df.corr()\n",
    "cluster1_gender=cluster1_corr.loc['gender',:]\n",
    "\n",
    "cluster2_df = gender_df[gender_df['cluster']==2]\n",
    "cluster2_corr = cluster2_df.corr()\n",
    "cluster2_gender=cluster2_corr.loc['gender',:]\n",
    "\n",
    "cluster3_df = gender_df[gender_df['cluster']==3]\n",
    "cluster3_corr = cluster3_df.corr()\n",
    "cluster3_gender=cluster3_corr.loc['gender',:]\n",
    "\n",
    "cluster4_df = gender_df[gender_df['cluster']==4]\n",
    "cluster4_corr = cluster4_df.corr()\n",
    "cluster4_gender=cluster4_corr.loc['gender',:]\n",
    "#cluster1_gender.head()\n",
    "combine_gender_df = pd.DataFrame({'cluster0':cluster0_gender,'cluster1':cluster1_gender,'cluster2':cluster2_gender,'cluster3':cluster3_gender,'cluster4':cluster4_gender})\n",
    "combine_gender_df.head()"
   ]
  },
  {
   "cell_type": "code",
   "execution_count": null,
   "id": "308f38b6",
   "metadata": {},
   "outputs": [],
   "source": [
    "hand_df = scale_df\n",
    "hand_df['hand'] = data['hand']\n",
    "hand_df=hand_df.drop(['age','engnat','race','gender'],axis =1)\n",
    "hand_df"
   ]
  },
  {
   "cell_type": "code",
   "execution_count": null,
   "id": "8bbee1d6",
   "metadata": {},
   "outputs": [],
   "source": [
    "cluster0_df = hand_df[hand_df['cluster']==0]\n",
    "cluster0_corr = cluster0_df.corr()\n",
    "cluster0_hand=cluster0_corr.loc['hand',:]\n",
    "\n",
    "cluster1_df = hand_df[hand_df['cluster']==1]\n",
    "cluster1_corr = cluster1_df.corr()\n",
    "cluster1_hand=cluster1_corr.loc['hand',:]\n",
    "\n",
    "cluster2_df = hand_df[hand_df['cluster']==2]\n",
    "cluster2_corr = cluster2_df.corr()\n",
    "cluster2_hand=cluster2_corr.loc['hand',:]\n",
    "\n",
    "cluster3_df = hand_df[hand_df['cluster']==3]\n",
    "cluster3_corr = cluster3_df.corr()\n",
    "cluster3_hand=cluster3_corr.loc['hand',:]\n",
    "\n",
    "cluster4_df = hand_df[hand_df['cluster']==4]\n",
    "cluster4_corr = cluster4_df.corr()\n",
    "cluster4_hand=cluster4_corr.loc['hand',:]\n",
    "\n",
    "combine_hand_df = pd.DataFrame({'cluster0':cluster0_hand,'cluster1':cluster1_hand,'cluster2':cluster2_hand,'cluster3':cluster3_hand,'cluster4':cluster4_hand})\n",
    "combine_hand_df.head()"
   ]
  },
  {
   "cell_type": "code",
   "execution_count": null,
   "id": "4bd9d518",
   "metadata": {},
   "outputs": [],
   "source": []
  },
  {
   "cell_type": "code",
   "execution_count": null,
   "id": "84d7562a",
   "metadata": {},
   "outputs": [],
   "source": []
  },
  {
   "cell_type": "code",
   "execution_count": null,
   "id": "07e26808",
   "metadata": {},
   "outputs": [],
   "source": []
  }
 ],
 "metadata": {
  "kernelspec": {
   "display_name": "Python 3",
   "language": "python",
   "name": "python3"
  },
  "language_info": {
   "codemirror_mode": {
    "name": "ipython",
    "version": 3
   },
   "file_extension": ".py",
   "mimetype": "text/x-python",
   "name": "python",
   "nbconvert_exporter": "python",
   "pygments_lexer": "ipython3",
   "version": "3.8.8"
  }
 },
 "nbformat": 4,
 "nbformat_minor": 5
}
