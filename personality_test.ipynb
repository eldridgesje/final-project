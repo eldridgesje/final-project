{
 "cells": [
  {
   "cell_type": "code",
   "execution_count": null,
   "id": "68f7e723",
   "metadata": {},
   "outputs": [],
   "source": [
    "# https://en.wikipedia.org/wiki/Big_Five_personality_traits\n",
    "# https://ipip.ori.org/newBigFive5broadKey.htm"
   ]
  },
  {
   "cell_type": "code",
   "execution_count": null,
   "id": "a5d5564c",
   "metadata": {},
   "outputs": [],
   "source": [
    "import pandas as pd\n",
    "import matplotlib.pyplot as plt\n",
    "import numpy as np"
   ]
  },
  {
   "cell_type": "code",
   "execution_count": null,
   "id": "c0f938cb",
   "metadata": {},
   "outputs": [],
   "source": [
    "file_to_open = pd.read_csv(\"Resources/data.csv\", delimiter=\"\\t\")\n",
    "data=file_to_open.copy()\n",
    "data.head()"
   ]
  },
  {
   "cell_type": "code",
   "execution_count": null,
   "id": "b3e46ec6",
   "metadata": {},
   "outputs": [],
   "source": [
    "data.shape"
   ]
  },
  {
   "cell_type": "code",
   "execution_count": null,
   "id": "4ad90564",
   "metadata": {},
   "outputs": [],
   "source": [
    "data.columns"
   ]
  },
  {
   "cell_type": "code",
   "execution_count": null,
   "id": "b7dbb55f",
   "metadata": {},
   "outputs": [],
   "source": [
    "data.isnull().values.any()"
   ]
  },
  {
   "cell_type": "code",
   "execution_count": null,
   "id": "5b052ba6",
   "metadata": {},
   "outputs": [],
   "source": [
    "data.isnull().sum()"
   ]
  },
  {
   "cell_type": "code",
   "execution_count": null,
   "id": "bc4ecdd1",
   "metadata": {},
   "outputs": [],
   "source": [
    "data.dropna(inplace=True)"
   ]
  },
  {
   "cell_type": "code",
   "execution_count": null,
   "id": "0f1a4f85",
   "metadata": {},
   "outputs": [],
   "source": [
    "print(f\"Number of participants: {len(data)}\")"
   ]
  },
  {
   "cell_type": "code",
   "execution_count": null,
   "id": "a4ea3ff5",
   "metadata": {},
   "outputs": [],
   "source": [
    "data.age.value_counts()"
   ]
  },
  {
   "cell_type": "code",
   "execution_count": null,
   "id": "7b43b373",
   "metadata": {},
   "outputs": [],
   "source": [
    "# calculate maximum year we're looking for in the data\n",
    "max_year = 2012-13\n",
    "print(f\"Youngest participient's date of birth: {max_year}\")"
   ]
  },
  {
   "cell_type": "code",
   "execution_count": null,
   "id": "e95ff3a6",
   "metadata": {},
   "outputs": [],
   "source": [
    "data= data.loc[data[\"age\"]<2000]\n",
    "data.head()"
   ]
  },
  {
   "cell_type": "code",
   "execution_count": null,
   "id": "05dc71ac",
   "metadata": {},
   "outputs": [],
   "source": [
    "data[\"age\"] = [2012-x if x >1960 else x for x in data[\"age\"]]\n",
    "data= data.loc[data[\"age\"]<=120]\n",
    "data.head()"
   ]
  },
  {
   "cell_type": "code",
   "execution_count": null,
   "id": "17e0e764",
   "metadata": {},
   "outputs": [],
   "source": [
    "data.age.sort_values(ascending=False) "
   ]
  },
  {
   "cell_type": "code",
   "execution_count": null,
   "id": "aa9907e9",
   "metadata": {},
   "outputs": [],
   "source": [
    "data.describe()"
   ]
  },
  {
   "cell_type": "code",
   "execution_count": null,
   "id": "f752ffb3",
   "metadata": {},
   "outputs": [],
   "source": [
    "# data.dtypes"
   ]
  },
  {
   "cell_type": "code",
   "execution_count": null,
   "id": "721ba3c5",
   "metadata": {},
   "outputs": [],
   "source": [
    "data.country.value_counts()"
   ]
  },
  {
   "cell_type": "code",
   "execution_count": null,
   "id": "ec903cbf",
   "metadata": {},
   "outputs": [],
   "source": [
    "data.country.value_counts().mean()"
   ]
  },
  {
   "cell_type": "code",
   "execution_count": null,
   "id": "4dc5b625",
   "metadata": {},
   "outputs": [],
   "source": [
    "countries = pd.DataFrame(data[\"country\"].value_counts())\n",
    "c_125= countries.loc[countries[\"country\"]>125]\n",
    "plt.bar(c_125.index,c_125[\"country\"])\n",
    "plt.show()"
   ]
  },
  {
   "cell_type": "code",
   "execution_count": null,
   "id": "82140c97",
   "metadata": {},
   "outputs": [],
   "source": [
    "c_125.nunique()"
   ]
  },
  {
   "cell_type": "code",
   "execution_count": null,
   "id": "6cd57cb6",
   "metadata": {},
   "outputs": [],
   "source": [
    "# Recheck how many cluster we should have as maximum\n",
    "from sklearn.preprocessing import MinMaxScaler\n",
    "\n",
    "df = data.drop(\"country\", axis=1)\n",
    "trim_df = df.drop(df.columns[:6], axis=1)\n",
    "columns = list(trim_df.columns)\n",
    "scaler = MinMaxScaler(feature_range=(0,1))\n",
    "scale_df = scaler.fit_transform(trim_df)\n",
    "scale_df = pd.DataFrame(scale_df, columns=columns)\n",
    "scale_df.head()"
   ]
  },
  {
   "cell_type": "code",
   "execution_count": null,
   "id": "2fce74ee",
   "metadata": {},
   "outputs": [],
   "source": [
    "#Elbow Method \n",
    "from sklearn.cluster import KMeans\n",
    "from yellowbrick.cluster import KElbowVisualizer\n",
    "\n",
    "kmeans = KMeans()\n",
    "visualizer = KElbowVisualizer(kmeans, k=(2,15))\n",
    "visualizer.fit(df)\n",
    "visualizer.poof()"
   ]
  },
  {
   "cell_type": "code",
   "execution_count": null,
   "id": "9c834b2e",
   "metadata": {},
   "outputs": [],
   "source": [
    "# cluster analysis- Aysin"
   ]
  },
  {
   "cell_type": "code",
   "execution_count": null,
   "id": "84d4e922",
   "metadata": {},
   "outputs": [],
   "source": [
    "from sklearn.cluster import KMeans\n",
    "kmeans = KMeans(n_clusters=5)"
   ]
  },
  {
   "cell_type": "code",
   "execution_count": null,
   "id": "4c9ffc4c",
   "metadata": {},
   "outputs": [],
   "source": [
    "kmeans.fit(scale_df)"
   ]
  },
  {
   "cell_type": "code",
   "execution_count": null,
   "id": "d688127c",
   "metadata": {},
   "outputs": [],
   "source": [
    "predicted_clusters = kmeans.predict(scale_df)"
   ]
  },
  {
   "cell_type": "code",
   "execution_count": null,
   "id": "5798ca18",
   "metadata": {},
   "outputs": [],
   "source": [
    "centers = kmeans.cluster_centers_\n",
    "labels = kmeans.labels_\n",
    "labels"
   ]
  },
  {
   "cell_type": "code",
   "execution_count": null,
   "id": "63a3f5fb",
   "metadata": {},
   "outputs": [],
   "source": [
    "len(labels)"
   ]
  },
  {
   "cell_type": "code",
   "execution_count": null,
   "id": "4f775eba",
   "metadata": {},
   "outputs": [],
   "source": [
    "centers"
   ]
  },
  {
   "cell_type": "code",
   "execution_count": null,
   "id": "3abe173b",
   "metadata": {},
   "outputs": [],
   "source": [
    "# scale_df = scale_df.add(labels)\n",
    "scale_df['cluster'] = labels.tolist()\n",
    "scale_df.head()"
   ]
  },
  {
   "cell_type": "code",
   "execution_count": null,
   "id": "6dfb4e41",
   "metadata": {},
   "outputs": [],
   "source": [
    "# analysis of the clusters- Michael"
   ]
  },
  {
   "cell_type": "code",
   "execution_count": null,
   "id": "f5416082",
   "metadata": {},
   "outputs": [],
   "source": [
    "# analysis of the questions- Stephen\n",
    "\n",
    "#Find silhouette score of current cluster model\n",
    "\n",
    "from sklearn import metrics\n",
    "from sklearn.metrics import pairwise_distances\n",
    "\n",
    "raw_df = scale_df.drop(columns=[\"cluster\"])\n",
    "\n",
    "print(metrics.silhouette_score(raw_df, labels, metric='euclidean'))\n"
   ]
  },
  {
   "cell_type": "code",
   "execution_count": null,
   "id": "91dae23f",
   "metadata": {},
   "outputs": [],
   "source": [
    "# Find the standard deviation of responses to each question\n",
    "\n",
    "question_df = scale_df.groupby(\"cluster\").mean()\n",
    "\n",
    "question_std = question_df.std()\n",
    "\n",
    "sorted_std = question_std.sort_values(ascending=False)\n",
    "\n",
    "sorted_std"
   ]
  },
  {
   "cell_type": "code",
   "execution_count": null,
   "id": "7f2d1ad0",
   "metadata": {},
   "outputs": [],
   "source": [
    "#Plot standard deviation to find obvious discontinuities\n",
    "\n",
    "sorted_std.plot.bar()"
   ]
  },
  {
   "cell_type": "code",
   "execution_count": null,
   "id": "95857ac4",
   "metadata": {},
   "outputs": [],
   "source": [
    "print(sorted_std.index)"
   ]
  },
  {
   "cell_type": "code",
   "execution_count": null,
   "id": "ceb9dfa8",
   "metadata": {},
   "outputs": [],
   "source": [
    "#Create two subgroups of questions to analyze\n",
    "\n",
    "cut1 = ['E7', 'N8', 'E5', 'N6', 'E3', 'N10', 'N7', 'E10', 'N1', 'E2', 'N9',\n",
    "       'E9', 'E4', 'E1', 'E6', 'A7', 'C4', 'N5', 'A9', 'A4', 'N3', 'A2', 'A5',\n",
    "       'E8', 'A6', 'C6', 'A10', 'N2', 'A8', 'A1', 'A3', 'C8', 'C5', 'C2', 'C9',\n",
    "       'N4', 'C1']\n",
    "\n",
    "cut2 = ['E7', 'N8', 'E5', 'N6', 'E3', 'N10', 'N7', 'E10', 'N1', 'E2', 'N9',\n",
    "       'E9', 'E4', 'E1', 'E6', 'A7', 'C4', 'N5', 'A9', 'A4', 'N3']\n",
    "\n",
    "brief1_df = raw_df[cut1]\n",
    "\n",
    "brief2_df = raw_df[cut2]"
   ]
  },
  {
   "cell_type": "code",
   "execution_count": null,
   "id": "ef36f678",
   "metadata": {},
   "outputs": [],
   "source": [
    "# Create cluster models for each subgroup\n",
    "\n",
    "kmeans_brief1 = KMeans(n_clusters=5)\n",
    "kmeans_brief1.fit(brief1_df)\n",
    "\n",
    "kmeans_brief2 = KMeans(n_clusters=5)\n",
    "kmeans_brief2.fit(brief2_df)\n"
   ]
  },
  {
   "cell_type": "code",
   "execution_count": null,
   "id": "71168a95",
   "metadata": {},
   "outputs": [],
   "source": [
    "#Compare silhouette scores for each subgroup to the original set\n",
    "\n",
    "brief1_labels = kmeans_brief1.labels_\n",
    "brief2_labels = kmeans_brief2.labels_\n",
    "\n",
    "print(metrics.silhouette_score(raw_df, labels, metric='euclidean'))\n",
    "print(metrics.silhouette_score(brief1_df, brief1_labels, metric='euclidean'))\n",
    "print(metrics.silhouette_score(brief2_df, brief2_labels, metric='euclidean'))"
   ]
  },
  {
   "cell_type": "code",
   "execution_count": null,
   "id": "d194917e",
   "metadata": {},
   "outputs": [],
   "source": [
    "#Test each question one by one to identify useful questions\n",
    "\n",
    "#Create data list\n",
    "\n",
    "colsToDrop = ['E7', 'N8', 'E5', 'N6', 'E3', 'N10', 'N7', 'E10', 'N1', 'E2', 'N9',\n",
    "       'E9', 'E4', 'E1', 'E6', 'A7', 'C4', 'N5', 'A9', 'A4', 'N3', 'A2', 'A5',\n",
    "       'E8', 'A6', 'C6', 'A10', 'N2', 'A8', 'A1', 'A3', 'C8', 'C5', 'C2', 'C9',\n",
    "       'N4', 'C1', 'O2', 'O10', 'O5', 'C7', 'C10', 'O7', 'C3', 'O1', 'O8',\n",
    "       'O6', 'O4', 'O9', 'O3']"
   ]
  },
  {
   "cell_type": "code",
   "execution_count": null,
   "id": "56feab64",
   "metadata": {},
   "outputs": [],
   "source": [
    "#Check other cluster counts for better coverage with different question sets\n",
    "\n",
    "clusterCount = [3,4,5,6,7,8,9,10]\n",
    "\n",
    "#Establish base silhouette scores to use as thresholds for question analysis for each cluster\n",
    "\n",
    "thresholds = []\n",
    "\n",
    "for x in clusterCount:\n",
    "\n",
    "    kmeans_control = KMeans(n_clusters=x)\n",
    "    kmeans_control.fit(raw_df)\n",
    "\n",
    "    control_labels = kmeans_control.labels_\n",
    "\n",
    "    thresholds.append(metrics.silhouette_score(raw_df, control_labels, metric=\"euclidean\"))\n",
    "\n",
    "thresholds"
   ]
  },
  {
   "cell_type": "code",
   "execution_count": null,
   "id": "8e1fde9d",
   "metadata": {},
   "outputs": [],
   "source": [
    "#establish the silhouette score threshold for each cluster\n",
    "\n",
    "threshold_df = pd.DataFrame(clusterCount, columns=[\"Clusters\"])\n",
    "threshold_df[\"Threshold\"] = thresholds\n",
    "\n",
    "threshold_df"
   ]
  },
  {
   "cell_type": "code",
   "execution_count": null,
   "id": "3dd13d78",
   "metadata": {},
   "outputs": [],
   "source": [
    "# Run a new cluster analysis for each cluster count, omitting each question one at a time, and record the resulting silhouette score\n",
    "\n",
    "scores_df = pd.DataFrame()\n",
    "scores_df[\"Question\"] = np.NaN\n",
    "scores_df[\"Score\"] = np.NaN\n",
    "scores_df[\"N\"] = np.NaN\n",
    "\n",
    "clusterCount = [3,4,5,6,7,8,9,10]\n",
    "counter = 0\n",
    "\n",
    "for x in colsToDrop:\n",
    "    test_df = raw_df.drop(columns=[x])\n",
    "    \n",
    "    for y in clusterCount:\n",
    "        kmeans_test = KMeans(n_clusters=y)\n",
    "        kmeans_test.fit(test_df)\n",
    "\n",
    "        test_labels = kmeans_test.labels_\n",
    "\n",
    "        score = metrics.silhouette_score(test_df, test_labels, metric=\"euclidean\")\n",
    "\n",
    "        newRow = pd.DataFrame({\"Question\": [x], \"Score\": [score], \"N\": [y]})\n",
    "        scores_df = pd.concat([scores_df, newRow])\n",
    "    \n",
    "scores_df"
   ]
  },
  {
   "cell_type": "code",
   "execution_count": null,
   "id": "a71e7316",
   "metadata": {},
   "outputs": [],
   "source": [
    "# For each cluster count, drop all questions where omitting the question resulted in a higher score.\n",
    "# Re-run the cluster analysis using only qualifying questions.\n",
    "# Visualize the silhouette scores for each number of clusters\n",
    "# Save results to a dataframe\n",
    "\n",
    "from yellowbrick.cluster import SilhouetteVisualizer\n",
    "\n",
    "trim_df = pd.DataFrame()\n",
    "trim_df[\"N\"] = np.NaN\n",
    "trim_df[\"Score\"] = np.NaN\n",
    "trim_df[\"Questions\"] = np.NaN\n",
    "\n",
    "\n",
    "for index, row in threshold_df.iterrows():\n",
    "    temp_df = scores_df[scores_df[\"N\"] == row[0]]\n",
    "    temp_df = temp_df[temp_df[\"Score\"] < row[1]]\n",
    "    \n",
    "    tempQuest = temp_df[\"Question\"].tolist()\n",
    "    \n",
    "    tempTrim_df = raw_df[tempQuest]\n",
    "    \n",
    "    kmeans_temp = KMeans(n_clusters=int(row[0]))\n",
    "    kmeans_temp.fit(tempTrim_df)\n",
    "\n",
    "    temp_labels = kmeans_temp.labels_    \n",
    "\n",
    "    trim_score = metrics.silhouette_score(tempTrim_df, temp_labels, metric=\"euclidean\")\n",
    "        \n",
    "    newRow = pd.DataFrame({\"N\": row[0], \"Score\": [trim_score], \"Questions\": [tempQuest]})\n",
    "    trim_df = pd.concat([trim_df, newRow])\n",
    "    \n",
    "    visualizer = SilhouetteVisualizer(kmeans_temp, colors='yellowbrick')\n",
    "    \n",
    "    visualizer.fit(tempTrim_df)\n",
    "    visualizer.show()\n",
    "    \n",
    "\n",
    "trim_df"
   ]
  },
  {
   "cell_type": "code",
   "execution_count": null,
   "id": "ef7b5da5",
   "metadata": {},
   "outputs": [],
   "source": [
    "# demographic analysis-James\n",
    "#gender, age"
   ]
  },
  {
   "cell_type": "code",
   "execution_count": null,
   "id": "ffa905f2",
   "metadata": {},
   "outputs": [],
   "source": [
    "#demographic analysis -Hai\n",
    "# country, handedness,engnat"
   ]
  },
  {
   "cell_type": "code",
   "execution_count": null,
   "id": "d15edccd",
   "metadata": {},
   "outputs": [],
   "source": []
  }
 ],
 "metadata": {
  "kernelspec": {
   "display_name": "Python 3",
   "language": "python",
   "name": "python3"
  },
  "language_info": {
   "codemirror_mode": {
    "name": "ipython",
    "version": 3
   },
   "file_extension": ".py",
   "mimetype": "text/x-python",
   "name": "python",
   "nbconvert_exporter": "python",
   "pygments_lexer": "ipython3",
   "version": "3.8.8"
  }
 },
 "nbformat": 4,
 "nbformat_minor": 5
}
