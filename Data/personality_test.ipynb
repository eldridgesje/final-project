{
 "cells": [
  {
   "cell_type": "code",
   "execution_count": null,
   "id": "68f7e723",
   "metadata": {},
   "outputs": [],
   "source": [
    "# https://en.wikipedia.org/wiki/Big_Five_personality_traits\n",
    "# https://ipip.ori.org/newBigFive5broadKey.htm"
   ]
  },
  {
   "cell_type": "code",
   "execution_count": null,
   "id": "a5d5564c",
   "metadata": {},
   "outputs": [],
   "source": [
    "import pandas as pd\n",
    "import matplotlib.pyplot as plt\n",
    "import numpy as np\n",
    "import seaborn as sns\n",
    "%matplotlib inline\n",
    "import scipy.stats as stats"
   ]
  },
  {
   "cell_type": "code",
   "execution_count": null,
   "id": "c0f938cb",
   "metadata": {},
   "outputs": [],
   "source": [
    "file_to_open = pd.read_csv(\"data.csv\", delimiter=\"\\t\")\n",
    "data=file_to_open.copy()\n",
    "data.head()"
   ]
  },
  {
   "cell_type": "code",
   "execution_count": null,
   "id": "b3e46ec6",
   "metadata": {},
   "outputs": [],
   "source": [
    "data.shape"
   ]
  },
  {
   "cell_type": "code",
   "execution_count": null,
   "id": "4ad90564",
   "metadata": {},
   "outputs": [],
   "source": [
    "data.columns"
   ]
  },
  {
   "cell_type": "code",
   "execution_count": null,
   "id": "b7dbb55f",
   "metadata": {},
   "outputs": [],
   "source": [
    "data.isnull().values.any()"
   ]
  },
  {
   "cell_type": "code",
   "execution_count": null,
   "id": "5b052ba6",
   "metadata": {},
   "outputs": [],
   "source": [
    "data.isnull().sum()"
   ]
  },
  {
   "cell_type": "code",
   "execution_count": null,
   "id": "bc4ecdd1",
   "metadata": {},
   "outputs": [],
   "source": [
    "data.dropna(inplace=True)"
   ]
  },
  {
   "cell_type": "code",
   "execution_count": null,
   "id": "0f1a4f85",
   "metadata": {},
   "outputs": [],
   "source": [
    "print(f\"Number of participants: {len(data)}\")"
   ]
  },
  {
   "cell_type": "code",
   "execution_count": null,
   "id": "a4ea3ff5",
   "metadata": {},
   "outputs": [],
   "source": [
    "data.age.value_counts()"
   ]
  },
  {
   "cell_type": "code",
   "execution_count": null,
   "id": "7b43b373",
   "metadata": {},
   "outputs": [],
   "source": [
    "# calculate maximum year we're looking for in the data\n",
    "max_year = 2012-13\n",
    "print(f\"Youngest participient's date of birth: {max_year}\")"
   ]
  },
  {
   "cell_type": "code",
   "execution_count": null,
   "id": "e95ff3a6",
   "metadata": {},
   "outputs": [],
   "source": [
    "data= data.loc[data[\"age\"]<2000]\n",
    "data.head()"
   ]
  },
  {
   "cell_type": "code",
   "execution_count": null,
   "id": "05dc71ac",
   "metadata": {},
   "outputs": [],
   "source": [
    "data[\"age\"] = [2012-x if x >1960 else x for x in data[\"age\"]]\n",
    "data = data.loc[data[\"age\"]<=120]\n",
    "data.head()"
   ]
  },
  {
   "cell_type": "code",
   "execution_count": null,
   "id": "17e0e764",
   "metadata": {},
   "outputs": [],
   "source": [
    "data.age.sort_values(ascending=False) "
   ]
  },
  {
   "cell_type": "code",
   "execution_count": null,
   "id": "aa9907e9",
   "metadata": {},
   "outputs": [],
   "source": [
    "data.describe()"
   ]
  },
  {
   "cell_type": "code",
   "execution_count": null,
   "id": "721ba3c5",
   "metadata": {},
   "outputs": [],
   "source": [
    "data.country.value_counts()"
   ]
  },
  {
   "cell_type": "code",
   "execution_count": null,
   "id": "ec903cbf",
   "metadata": {},
   "outputs": [],
   "source": [
    "data.country.size"
   ]
  },
  {
   "cell_type": "code",
   "execution_count": null,
   "id": "4dc5b625",
   "metadata": {},
   "outputs": [],
   "source": [
    "countries = pd.DataFrame(data[\"country\"].value_counts())\n",
    "c_125= countries.loc[countries[\"country\"]>125]\n",
    "plt.bar(c_125.index,c_125[\"country\"])\n",
    "plt.show()"
   ]
  },
  {
   "cell_type": "code",
   "execution_count": null,
   "id": "82140c97",
   "metadata": {},
   "outputs": [],
   "source": [
    "c_125.nunique()"
   ]
  },
  {
   "cell_type": "code",
   "execution_count": null,
   "id": "6cd57cb6",
   "metadata": {},
   "outputs": [],
   "source": [
    "# Recheck how many cluster we should have as maximum\n",
    "from sklearn.preprocessing import MinMaxScaler\n",
    "\n",
    "df = data.drop(\"country\", axis=1)\n",
    "trim_df = df.drop(df.columns[:6], axis=1)\n",
    "columns = list(trim_df.columns)\n",
    "scaler = MinMaxScaler(feature_range=(0,1))\n",
    "scale_df = scaler.fit_transform(trim_df)\n",
    "scale_df = pd.DataFrame(scale_df, columns=columns)\n",
    "scale_df.head()"
   ]
  },
  {
   "cell_type": "code",
   "execution_count": null,
   "id": "2fce74ee",
   "metadata": {},
   "outputs": [],
   "source": [
    "#Elbow Method \n",
    "from sklearn.cluster import KMeans\n",
    "from yellowbrick.cluster import KElbowVisualizer\n",
    "\n",
    "kmeans = KMeans()\n",
    "visualizer = KElbowVisualizer(kmeans, k=(2,15))\n",
    "visualizer.fit(df)\n",
    "visualizer.poof()"
   ]
  },
  {
   "cell_type": "code",
   "execution_count": null,
   "id": "9c834b2e",
   "metadata": {},
   "outputs": [],
   "source": [
    "# cluster analysis- Aysin"
   ]
  },
  {
   "cell_type": "code",
   "execution_count": null,
   "id": "84d4e922",
   "metadata": {},
   "outputs": [],
   "source": [
    "from sklearn.cluster import KMeans\n",
    "kmeans = KMeans(n_clusters=5)"
   ]
  },
  {
   "cell_type": "code",
   "execution_count": null,
   "id": "4c9ffc4c",
   "metadata": {},
   "outputs": [],
   "source": [
    "kmeans.fit(scale_df)"
   ]
  },
  {
   "cell_type": "code",
   "execution_count": null,
   "id": "d688127c",
   "metadata": {},
   "outputs": [],
   "source": [
    "predicted_clusters = kmeans.predict(scale_df)"
   ]
  },
  {
   "cell_type": "code",
   "execution_count": null,
   "id": "5798ca18",
   "metadata": {},
   "outputs": [],
   "source": [
    "centers = kmeans.cluster_centers_\n",
    "labels = kmeans.labels_\n",
    "labels"
   ]
  },
  {
   "cell_type": "code",
   "execution_count": null,
   "id": "63a3f5fb",
   "metadata": {},
   "outputs": [],
   "source": [
    "len(labels)"
   ]
  },
  {
   "cell_type": "code",
   "execution_count": null,
   "id": "3abe173b",
   "metadata": {},
   "outputs": [],
   "source": [
    "# scale_df = scale_df.add(labels)\n",
    "scale_df['cluster'] = labels.tolist()\n",
    "scale_df"
   ]
  },
  {
   "cell_type": "code",
   "execution_count": null,
   "id": "6dfb4e41",
   "metadata": {},
   "outputs": [],
   "source": [
    "# analysis of the clusters- Michael"
   ]
  },
  {
   "cell_type": "code",
   "execution_count": null,
   "id": "4965a4e6",
   "metadata": {},
   "outputs": [],
   "source": [
    "scale_df"
   ]
  },
  {
   "cell_type": "code",
   "execution_count": null,
   "id": "230dd156",
   "metadata": {},
   "outputs": [],
   "source": [
    "weighted_df = pd.DataFrame(scale_df, copy=True)\n",
    "weighted_df"
   ]
  },
  {
   "cell_type": "code",
   "execution_count": null,
   "id": "37a24210",
   "metadata": {},
   "outputs": [],
   "source": [
    "weighted_df['E2'] = 1.2 - weighted_df['E2'] "
   ]
  },
  {
   "cell_type": "code",
   "execution_count": null,
   "id": "b1b269e7",
   "metadata": {},
   "outputs": [],
   "source": [
    "weighted_df['E4'] = 1.2 -weighted_df['E4']"
   ]
  },
  {
   "cell_type": "code",
   "execution_count": null,
   "id": "40a0e890",
   "metadata": {},
   "outputs": [],
   "source": [
    "weighted_df['E6'] = 1.2 - weighted_df['E6']"
   ]
  },
  {
   "cell_type": "code",
   "execution_count": null,
   "id": "1a8dd695",
   "metadata": {},
   "outputs": [],
   "source": [
    "weighted_df['E8'] = 1.2 - weighted_df['E8']"
   ]
  },
  {
   "cell_type": "code",
   "execution_count": null,
   "id": "5d328736",
   "metadata": {},
   "outputs": [],
   "source": [
    "weighted_df['E10'] = 1.2 - weighted_df['E10']"
   ]
  },
  {
   "cell_type": "code",
   "execution_count": null,
   "id": "f84d6226",
   "metadata": {},
   "outputs": [],
   "source": [
    "weighted_df['N2'] = 1.2 - weighted_df['N2']"
   ]
  },
  {
   "cell_type": "code",
   "execution_count": null,
   "id": "3ea26171",
   "metadata": {},
   "outputs": [],
   "source": [
    "weighted_df['N4'] = 1.2 - weighted_df['N4']"
   ]
  },
  {
   "cell_type": "code",
   "execution_count": null,
   "id": "25d70f9a",
   "metadata": {},
   "outputs": [],
   "source": [
    "weighted_df['A1'] = 1.2 - weighted_df['A1']"
   ]
  },
  {
   "cell_type": "code",
   "execution_count": null,
   "id": "3974ccd2",
   "metadata": {},
   "outputs": [],
   "source": [
    "weighted_df['A3'] = 1.2 - weighted_df['A3']"
   ]
  },
  {
   "cell_type": "code",
   "execution_count": null,
   "id": "a33bd970",
   "metadata": {},
   "outputs": [],
   "source": [
    "weighted_df['A5'] = 1.2- weighted_df['A5']"
   ]
  },
  {
   "cell_type": "code",
   "execution_count": null,
   "id": "9adf2e16",
   "metadata": {},
   "outputs": [],
   "source": [
    "weighted_df['A7'] = 1.2 - weighted_df['A7']"
   ]
  },
  {
   "cell_type": "code",
   "execution_count": null,
   "id": "8ef6bf49",
   "metadata": {},
   "outputs": [],
   "source": [
    "weighted_df['C2'] = 1.2 - weighted_df['C2']"
   ]
  },
  {
   "cell_type": "code",
   "execution_count": null,
   "id": "767877a6",
   "metadata": {},
   "outputs": [],
   "source": [
    "weighted_df['C4'] = 1.2 - weighted_df['C4']"
   ]
  },
  {
   "cell_type": "code",
   "execution_count": null,
   "id": "e50e09f0",
   "metadata": {},
   "outputs": [],
   "source": [
    "weighted_df['C6'] = 1.2 - weighted_df['C6']"
   ]
  },
  {
   "cell_type": "code",
   "execution_count": null,
   "id": "ac1cee9b",
   "metadata": {},
   "outputs": [],
   "source": [
    "weighted_df['C8'] = 1.2 - weighted_df['C8']"
   ]
  },
  {
   "cell_type": "code",
   "execution_count": null,
   "id": "389e4a68",
   "metadata": {},
   "outputs": [],
   "source": [
    "weighted_df['O2'] = 1.2 - weighted_df['O2']"
   ]
  },
  {
   "cell_type": "code",
   "execution_count": null,
   "id": "83c0de36",
   "metadata": {},
   "outputs": [],
   "source": [
    "weighted_df['O4'] = 1.2 - weighted_df['O4']"
   ]
  },
  {
   "cell_type": "code",
   "execution_count": null,
   "id": "e562e739",
   "metadata": {},
   "outputs": [],
   "source": [
    "weighted_df['O6'] = 1.2 - weighted_df['O6']"
   ]
  },
  {
   "cell_type": "code",
   "execution_count": null,
   "id": "25440718",
   "metadata": {},
   "outputs": [],
   "source": [
    "weighted_df"
   ]
  },
  {
   "cell_type": "code",
   "execution_count": null,
   "id": "0465e0fe",
   "metadata": {},
   "outputs": [],
   "source": [
    "E = weighted_df"
   ]
  },
  {
   "cell_type": "code",
   "execution_count": null,
   "id": "a0d82dfa",
   "metadata": {},
   "outputs": [],
   "source": [
    "E['E_Sum_Result'] = weighted_df.loc[:,[\"E1\",\"E2\",\"E3\",\"E4\",\"E5\",\"E6\",\"E7\",\"E8\",\"E9\",\"E10\"]].sum(axis=1)\n",
    "E"
   ]
  },
  {
   "cell_type": "code",
   "execution_count": null,
   "id": "4e4b8218",
   "metadata": {
    "scrolled": true
   },
   "outputs": [],
   "source": [
    "N = weighted_df\n",
    "N['N_Sum_Result'] = weighted_df.loc[:,\"N1\":\"N10\"].sum(axis=1)\n",
    "N"
   ]
  },
  {
   "cell_type": "code",
   "execution_count": null,
   "id": "6d39fd74",
   "metadata": {},
   "outputs": [],
   "source": [
    "A = weighted_df\n",
    "A['A_Sum_Result'] = weighted_df.loc[:,\"A1\":\"A10\"].sum(axis=1)\n",
    "A"
   ]
  },
  {
   "cell_type": "code",
   "execution_count": null,
   "id": "cf6bedb7",
   "metadata": {},
   "outputs": [],
   "source": [
    "C = weighted_df\n",
    "C['C_Sum_Result'] = weighted_df.loc[:,\"C1\":\"C10\"].sum(axis=1)\n",
    "C"
   ]
  },
  {
   "cell_type": "code",
   "execution_count": null,
   "id": "f703ebf1",
   "metadata": {},
   "outputs": [],
   "source": [
    "O = weighted_df\n",
    "O['O_Sum_Result'] = weighted_df.loc[:,\"O1\":\"O10\"].sum(axis=1)\n",
    "O"
   ]
  },
  {
   "cell_type": "code",
   "execution_count": null,
   "id": "6886a085",
   "metadata": {},
   "outputs": [],
   "source": [
    "sums_df = pd.DataFrame()"
   ]
  },
  {
   "cell_type": "code",
   "execution_count": null,
   "id": "86cc81ce",
   "metadata": {},
   "outputs": [],
   "source": [
    "sums_df[\"O\"] = O['O_Sum_Result']\n",
    "sums_df[\"C\"] = C['C_Sum_Result']\n",
    "sums_df[\"E\"] = E['E_Sum_Result']\n",
    "sums_df[\"A\"] = A['A_Sum_Result']\n",
    "sums_df[\"N\"] = N['N_Sum_Result']\n",
    "sums_df[\"Cluster\"] = weighted_df['cluster']\n",
    "sums_df"
   ]
  },
  {
   "cell_type": "code",
   "execution_count": null,
   "id": "7abfd891",
   "metadata": {},
   "outputs": [],
   "source": [
    "cluster_avg = sums_df.groupby('Cluster').mean()\n",
    "cluster_avg"
   ]
  },
  {
   "cell_type": "code",
   "execution_count": null,
   "id": "1f9f2cc0",
   "metadata": {},
   "outputs": [],
   "source": [
    "cluster_avg.to_csv('cluster_summary.csv')\n",
    "sums_df.to_csv('graded_idnv_score.csv')"
   ]
  },
  {
   "cell_type": "code",
   "execution_count": null,
   "id": "4613c8f5",
   "metadata": {},
   "outputs": [],
   "source": []
  },
  {
   "cell_type": "code",
   "execution_count": null,
   "id": "f5416082",
   "metadata": {},
   "outputs": [],
   "source": [
    "# analysis of the questions- Stephen\n",
    "\n",
    "#Find silhouette score of current cluster model\n",
    "\n",
    "from sklearn import metrics\n",
    "\n",
    "raw_df = scale_df.drop(columns=[\"cluster\"])\n",
    "\n",
    "print(metrics.silhouette_score(raw_df, labels, metric='euclidean'))\n"
   ]
  },
  {
   "cell_type": "code",
   "execution_count": null,
   "id": "91dae23f",
   "metadata": {},
   "outputs": [],
   "source": [
    "# Find the standard deviation of means in responses to each question across clusters\n",
    "\n",
    "question_df = scale_df.groupby(\"cluster\").mean()\n",
    "\n",
    "question_std = question_df.std()\n",
    "\n",
    "sorted_std = question_std.sort_values(ascending=False)\n",
    "\n",
    "sorted_std"
   ]
  },
  {
   "cell_type": "code",
   "execution_count": null,
   "id": "7f2d1ad0",
   "metadata": {},
   "outputs": [],
   "source": [
    "#Plot standard deviation to find obvious discontinuities\n",
    "\n",
    "sorted_std.plot.bar()"
   ]
  },
  {
   "cell_type": "code",
   "execution_count": null,
   "id": "95857ac4",
   "metadata": {},
   "outputs": [],
   "source": [
    "print(sorted_std.index)"
   ]
  },
  {
   "cell_type": "code",
   "execution_count": null,
   "id": "ceb9dfa8",
   "metadata": {},
   "outputs": [],
   "source": [
    "#Create two subgroups of questions to analyze\n",
    "\n",
    "cut1 = ['E7', 'N8', 'E5', 'N6', 'E3', 'N10', 'N7', 'E10', 'N1', 'E2', 'N9',\n",
    "       'E9', 'E4', 'E1', 'E6', 'A7', 'C4', 'N5', 'A9', 'A4', 'N3', 'A2', 'A5',\n",
    "       'E8', 'A6', 'C6', 'A10', 'N2', 'A8', 'A1', 'A3', 'C8', 'C5', 'C2', 'C9',\n",
    "       'N4', 'C1']\n",
    "\n",
    "cut2 = ['E7', 'N8', 'E5', 'N6', 'E3', 'N10', 'N7', 'E10', 'N1', 'E2', 'N9',\n",
    "       'E9', 'E4', 'E1', 'E6', 'A7', 'C4', 'N5', 'A9', 'A4', 'N3']\n",
    "\n",
    "brief1_df = raw_df[cut1]\n",
    "\n",
    "brief2_df = raw_df[cut2]"
   ]
  },
  {
   "cell_type": "code",
   "execution_count": null,
   "id": "ef36f678",
   "metadata": {},
   "outputs": [],
   "source": [
    "# Create cluster models for each subgroup\n",
    "\n",
    "kmeans_raw = KMeans(n_clusters=5)\n",
    "kmeans_raw.fit(raw_df)\n",
    "\n",
    "kmeans_brief1 = KMeans(n_clusters=5)\n",
    "kmeans_brief1.fit(brief1_df)\n",
    "\n",
    "kmeans_brief2 = KMeans(n_clusters=5)\n",
    "kmeans_brief2.fit(brief2_df)\n"
   ]
  },
  {
   "cell_type": "code",
   "execution_count": null,
   "id": "71168a95",
   "metadata": {},
   "outputs": [],
   "source": [
    "#Compare silhouette scores for each subgroup to the original set\n",
    "\n",
    "raw_labels = kmeans_raw.labels_\n",
    "brief1_labels = kmeans_brief1.labels_\n",
    "brief2_labels = kmeans_brief2.labels_\n",
    "\n",
    "print(metrics.silhouette_score(raw_df, raw_labels, metric='euclidean'))\n",
    "print(metrics.silhouette_score(brief1_df, brief1_labels, metric='euclidean'))\n",
    "print(metrics.silhouette_score(brief2_df, brief2_labels, metric='euclidean'))"
   ]
  },
  {
   "cell_type": "code",
   "execution_count": null,
   "id": "d194917e",
   "metadata": {},
   "outputs": [],
   "source": [
    "#Test each question one by one to identify useful questions\n",
    "\n",
    "#Create data list\n",
    "\n",
    "colsToDrop = ['E7', 'N8', 'E5', 'N6', 'E3', 'N10', 'N7', 'E10', 'N1', 'E2', 'N9',\n",
    "       'E9', 'E4', 'E1', 'E6', 'A7', 'C4', 'N5', 'A9', 'A4', 'N3', 'A2', 'A5',\n",
    "       'E8', 'A6', 'C6', 'A10', 'N2', 'A8', 'A1', 'A3', 'C8', 'C5', 'C2', 'C9',\n",
    "       'N4', 'C1', 'O2', 'O10', 'O5', 'C7', 'C10', 'O7', 'C3', 'O1', 'O8',\n",
    "       'O6', 'O4', 'O9', 'O3']"
   ]
  },
  {
   "cell_type": "code",
   "execution_count": null,
   "id": "56feab64",
   "metadata": {},
   "outputs": [],
   "source": [
    "#Check other cluster counts for better coverage with different question sets\n",
    "\n",
    "clusterCount = [3,4,5,6,7,8,9,10]\n",
    "\n",
    "#Establish base silhouette scores to use as thresholds for question analysis for each cluster\n",
    "\n",
    "thresholds = []\n",
    "\n",
    "\n",
    "for x in clusterCount:\n",
    "\n",
    "    kmeans_control = KMeans(n_clusters=x)\n",
    "    kmeans_control.fit(raw_df)\n",
    "\n",
    "    control_labels = kmeans_control.labels_\n",
    "\n",
    "    thresholds.append(metrics.silhouette_score(raw_df, control_labels, metric=\"euclidean\"))\n",
    "\n",
    "thresholds"
   ]
  },
  {
   "cell_type": "code",
   "execution_count": null,
   "id": "8e1fde9d",
   "metadata": {},
   "outputs": [],
   "source": [
    "#establish the silhouette score threshold for each cluster\n",
    "\n",
    "\n",
    "threshold_df = pd.DataFrame(clusterCount, columns=[\"Clusters\"])\n",
    "threshold_df[\"Threshold\"] = thresholds\n",
    "\n",
    "threshold_df"
   ]
  },
  {
   "cell_type": "code",
   "execution_count": null,
   "id": "3dd13d78",
   "metadata": {},
   "outputs": [],
   "source": [
    "# Run a new cluster analysis for each cluster count, omitting each question one at a time, and record the resulting silhouette score\n",
    "\n",
    "\n",
    "# To re-run the cluster analysis, un-comment the code below the hash line\n",
    "\n",
    "#####################\n",
    "\n",
    "# scores_df = pd.DataFrame()\n",
    "# scores_df[\"Question\"] = np.NaN\n",
    "# scores_df[\"Score\"] = np.NaN\n",
    "# scores_df[\"N\"] = np.NaN\n",
    "\n",
    "# clusterCount = [3,4,5,6,7,8,9,10]\n",
    "# counter = 0\n",
    "\n",
    "# for x in colsToDrop:\n",
    "#     test_df = raw_df.drop(columns=[x])\n",
    "    \n",
    "#     for y in clusterCount:\n",
    "#         kmeans_test = KMeans(n_clusters=y)\n",
    "#         kmeans_test.fit(test_df)\n",
    "\n",
    "#         test_labels = kmeans_test.labels_\n",
    "\n",
    "#         score = metrics.silhouette_score(test_df, test_labels, metric=\"euclidean\")\n",
    "\n",
    "#         newRow = pd.DataFrame({\"Question\": [x], \"Score\": [score], \"N\": [y]})\n",
    "#         scores_df = pd.concat([scores_df, newRow])\n",
    "    \n",
    "# scores_df\n",
    "\n",
    "# scores_df.to_csv(\"cluster_scores.csv\")"
   ]
  },
  {
   "cell_type": "code",
   "execution_count": null,
   "id": "1c978de3",
   "metadata": {},
   "outputs": [],
   "source": [
    "file_to_open = pd.read_csv(\"cluster_scores.csv\")\n",
    "scores_df = file_to_open.drop(['Unnamed: 0'], axis = 1).copy()\n",
    "\n",
    "scores_df"
   ]
  },
  {
   "cell_type": "code",
   "execution_count": null,
   "id": "a71e7316",
   "metadata": {},
   "outputs": [],
   "source": [
    "# For each cluster count, drop all questions where omitting the question resulted in a higher score.\n",
    "# Re-run the cluster analysis using only qualifying questions.\n",
    "# Visualize the silhouette scores for each number of clusters\n",
    "# Save results to a dataframe\n",
    "\n",
    "from yellowbrick.cluster import SilhouetteVisualizer\n",
    "\n",
    "trim_df = pd.DataFrame()\n",
    "trim_df[\"N\"] = np.NaN\n",
    "trim_df[\"Score\"] = np.NaN\n",
    "trim_df[\"Questions\"] = np.NaN\n",
    "\n",
    "\n",
    "\n",
    "for index, row in threshold_df.iterrows():\n",
    "    temp_df = scores_df[scores_df[\"N\"] == row[0]]\n",
    "    temp_df = temp_df[temp_df[\"Score\"] < row[1]]\n",
    "    \n",
    "    tempQuest = temp_df[\"Question\"].tolist()\n",
    "    \n",
    "    tempTrim_df = raw_df[tempQuest]\n",
    "    \n",
    "    kmeans_temp = KMeans(n_clusters=int(row[0]))\n",
    "    kmeans_temp.fit(tempTrim_df)\n",
    "\n",
    "    temp_labels = kmeans_temp.labels_    \n",
    "\n",
    "    trim_score = metrics.silhouette_score(tempTrim_df, temp_labels, metric=\"euclidean\")\n",
    "        \n",
    "    newRow = pd.DataFrame({\"N\": row[0], \"Score\": [trim_score], \"Questions\": [tempQuest]})\n",
    "    trim_df = pd.concat([trim_df, newRow])\n",
    "    \n",
    "    visualizer = SilhouetteVisualizer(kmeans_temp, colors='yellowbrick')\n",
    "    \n",
    "    visualizer.fit(tempTrim_df)\n",
    "    visualizer.show()\n",
    "    \n",
    "\n",
    "trim_df"
   ]
  },
  {
   "cell_type": "code",
   "execution_count": null,
   "id": "c37223e9",
   "metadata": {},
   "outputs": [],
   "source": [
    "# Prepare data for export\n",
    "\n",
    "score_cols_df = pd.DataFrame(scores_df.groupby([\"Question\",\"N\"]).aggregate('first').unstack())\n",
    "\n",
    "score_cols_df"
   ]
  },
  {
   "cell_type": "code",
   "execution_count": null,
   "id": "9d5314a8",
   "metadata": {},
   "outputs": [],
   "source": [
    "score_cols_df = score_cols_df.droplevel(level=0, axis=1)\n"
   ]
  },
  {
   "cell_type": "code",
   "execution_count": null,
   "id": "f2fc84d3",
   "metadata": {
    "scrolled": true
   },
   "outputs": [],
   "source": [
    "# Add standard deviation values from above\n",
    "\n",
    "score_cols_df[\"Group Standard Deviation\"] = question_std\n",
    "\n",
    "score_cols_df"
   ]
  },
  {
   "cell_type": "code",
   "execution_count": null,
   "id": "872c879d",
   "metadata": {},
   "outputs": [],
   "source": [
    "# Add question text\n",
    "\n",
    "question_text_df = pd.DataFrame()\n",
    "\n",
    "question_text_df[\"Question Code\"] = ['E1','E2', 'E3', 'E4', 'E5', 'E6', 'E7', 'E8', 'E9', 'E10', 'N1', 'N2', 'N3','N4', 'N5', 'N6', 'N7', 'N8', 'N9', 'N10', 'A1', 'A2', 'A3', 'A4', 'A5','A6', 'A7', 'A8', 'A9', 'A10', 'C1', 'C2', 'C3', 'C4', 'C5', 'C6', 'C7','C8', 'C9', 'C10', 'O1', 'O2', 'O3', 'O4', 'O5', 'O6', 'O7', 'O8', 'O9','O10']\n",
    "\n",
    "question_text_df[\"Question Text\"] = [\"I am the life of the party.\", \"I don't talk a lot.\", \"I feel comfortable around people.\", \"I keep in the background.\", \"I start conversations.\", \"I have little to say.\", \"I talk to a lot of different people at parties.\", \"I don't like to draw attention to myself.\", \"I don't mind being the center of attention.\", \"I am quiet around strangers.\", \"I get stressed out easily.\", \"I am relaxed most of the time.\", \"I worry about things.\", \"I seldom feel blue.\", \"I am easily disturbed.\", \"I get upset easily.\", \"I change my mood a lot.\", \"I have frequent mood swings.\", \"I get irritated easily.\", \"I often feel blue.\", \"I feel little concern for others.\", \"I am interested in people.\", \"I insult people.\", \"I sympathize with others' feelings.\", \"I am not interested in other people's problems.\", \"I have a soft heart.\", \"I am not really interested in others.\", \"I take time out for others.\", \"I feel others' emotions.\", \"I make people feel at ease.\", \"I am always prepared.\", \"I leave my belongings around.\", \"I pay attention to details.\", \"I make a mess of things.\", \"I get chores done right away.\", \"I often forget to put things back in their proper place.\", \"I like order.\", \"I shirk my duties.\", \"I follow a schedule.\", \"I am exacting in my work.\", \"I have a rich vocabulary.\", \"I have difficulty understanding abstract ideas.\", \"I have a vivid imagination.\", \"I am not interested in abstract ideas.\", \"I have excellent ideas.\", \"I do not have a good imagination.\", \"I am quick to understand things.\", \"I use difficult words.\", \"I spend time reflecting on things.\", \"I am full of ideas.\"]\n",
    "\n",
    "question_text_df.sort_values(\"Question Code\", inplace=True)\n",
    "\n",
    "question_text_df[\"Question Text\"]\n"
   ]
  },
  {
   "cell_type": "code",
   "execution_count": null,
   "id": "ae9979b5",
   "metadata": {},
   "outputs": [],
   "source": [
    "# Add threshold data from above\n",
    "\n",
    "score_cols_df[\"Threshold 3\"] = threshold_df[\"Threshold\"][0]\n",
    "score_cols_df[\"Threshold 4\"] = threshold_df[\"Threshold\"][1]\n",
    "score_cols_df[\"Threshold 5\"] = threshold_df[\"Threshold\"][2]\n",
    "score_cols_df[\"Threshold 6\"] = threshold_df[\"Threshold\"][3]\n",
    "score_cols_df[\"Threshold 7\"] = threshold_df[\"Threshold\"][4]\n",
    "score_cols_df[\"Threshold 8\"] = threshold_df[\"Threshold\"][5]\n",
    "score_cols_df[\"Threshold 9\"] = threshold_df[\"Threshold\"][6]\n",
    "score_cols_df[\"Threshold 10\"] = threshold_df[\"Threshold\"][7]\n",
    "\n",
    "trim_df = trim_df.reset_index()\n",
    "\n",
    "score_cols_df[\"New Score 3\"] = trim_df[\"Score\"][0]\n",
    "score_cols_df[\"New Score 4\"] = trim_df[\"Score\"][1]\n",
    "score_cols_df[\"New Score 5\"] = trim_df[\"Score\"][2]\n",
    "score_cols_df[\"New Score 6\"] = trim_df[\"Score\"][3]\n",
    "score_cols_df[\"New Score 7\"] = trim_df[\"Score\"][4]\n",
    "score_cols_df[\"New Score 8\"] = trim_df[\"Score\"][5]\n",
    "score_cols_df[\"New Score 9\"] = trim_df[\"Score\"][6]\n",
    "score_cols_df[\"New Score 10\"] = trim_df[\"Score\"][7]"
   ]
  },
  {
   "cell_type": "code",
   "execution_count": null,
   "id": "2d6b5287",
   "metadata": {},
   "outputs": [],
   "source": [
    "# Combine into one dataframe and export as CSV\n",
    "\n",
    "question_text_df[\"Question Text\"]\n",
    "\n",
    "score_cols_df[\"Question Text\"] = question_text_df[\"Question Text\"].values\n",
    "\n",
    "score_cols_df\n",
    "\n",
    "score_cols_df.to_csv(\"questions.csv\")"
   ]
  },
  {
   "cell_type": "code",
   "execution_count": null,
   "id": "ef7b5da5",
   "metadata": {},
   "outputs": [],
   "source": [
    "# demographic analysis-James\n"
   ]
  },
  {
   "cell_type": "code",
   "execution_count": null,
   "id": "5a88ebf2",
   "metadata": {},
   "outputs": [],
   "source": [
    "# SEPARATE OUT META DATA (DEMOGRAPHICS)\n",
    "\n",
    "data_meta_data = data.iloc[:, :7]\n",
    "data_meta_data.head()"
   ]
  },
  {
   "cell_type": "code",
   "execution_count": null,
   "id": "7f23426d",
   "metadata": {},
   "outputs": [],
   "source": [
    "# Bringing down from earlier cluster analysis\n",
    "scale_df"
   ]
  },
  {
   "cell_type": "code",
   "execution_count": null,
   "id": "7c9a4c69",
   "metadata": {},
   "outputs": [],
   "source": [
    "# RECOMBINE WITH META_DATA\n"
   ]
  },
  {
   "cell_type": "code",
   "execution_count": null,
   "id": "ac1443b7",
   "metadata": {},
   "outputs": [],
   "source": [
    "# MERGE CUSTERED QUESTION DATA WITH META_DATA\n",
    "\n",
    "clustered_df = pd.merge(data_meta_data, scale_df , left_index=True, right_index=True)\n",
    "clustered_df"
   ]
  },
  {
   "cell_type": "code",
   "execution_count": null,
   "id": "2cfd9fbf",
   "metadata": {},
   "outputs": [],
   "source": [
    "# DROP ALL META DATA COLUMNS EXCEPT AGE\n",
    "age_df = clustered_df.drop(['race', 'engnat', 'gender', 'hand', 'source', 'country'], axis = 1)\n",
    "age_df"
   ]
  },
  {
   "cell_type": "code",
   "execution_count": null,
   "id": "6c2ed10e",
   "metadata": {},
   "outputs": [],
   "source": [
    "# Create a boxplot to compare means\n",
    "age_df.boxplot(\"age\", by=\"cluster\", figsize=(20, 10))"
   ]
  },
  {
   "cell_type": "code",
   "execution_count": null,
   "id": "f1ef79bb",
   "metadata": {},
   "outputs": [],
   "source": [
    "# Hypothesis (H0):clusters are the same with respect to age\n",
    "\n",
    "cluster1 = age_df[age_df[\"cluster\"] == 0][\"age\"]\n",
    "cluster2 = age_df[age_df[\"cluster\"] == 1][\"age\"]\n",
    "cluster3 = age_df[age_df[\"cluster\"] == 2][\"age\"]\n",
    "cluster4 = age_df[age_df[\"cluster\"] == 3][\"age\"]\n",
    "cluster5 = age_df[age_df[\"cluster\"] == 4][\"age\"]"
   ]
  },
  {
   "cell_type": "code",
   "execution_count": null,
   "id": "a10ebac0",
   "metadata": {},
   "outputs": [],
   "source": [
    "# ANOVA\n",
    "# Conclusion:  We fail to reject H0 because p value >>.05\n",
    "stats.f_oneway(cluster1, cluster2, cluster3, cluster4, cluster5)"
   ]
  },
  {
   "cell_type": "code",
   "execution_count": null,
   "id": "983406af",
   "metadata": {},
   "outputs": [],
   "source": [
    "# Save to a csv file to use in Tableau\n",
    "age_df.to_csv('clustr_age.csv', index = False)"
   ]
  },
  {
   "cell_type": "code",
   "execution_count": null,
   "id": "7c178af2",
   "metadata": {},
   "outputs": [],
   "source": []
  },
  {
   "cell_type": "code",
   "execution_count": null,
   "id": "34fed6b4",
   "metadata": {},
   "outputs": [],
   "source": [
    "#demographic analysis -Hai\n",
    "# race, handedness,engnat"
   ]
  },
  {
   "cell_type": "code",
   "execution_count": null,
   "id": "4bd9d518",
   "metadata": {},
   "outputs": [],
   "source": [
    "# Isolate engnat field with cluster data\n",
    "\n",
    "engnat_df = clustered_df.drop(['race', 'age', 'gender', 'hand', 'source', 'country'], axis = 1)\n",
    "engnat_df\n"
   ]
  },
  {
   "cell_type": "code",
   "execution_count": null,
   "id": "96d34260",
   "metadata": {},
   "outputs": [],
   "source": [
    "# Define engnat clusters\n",
    "\n",
    "cluster1 = engnat_df[engnat_df[\"cluster\"] == 0][\"engnat\"]\n",
    "cluster2 = engnat_df[engnat_df[\"cluster\"] == 1][\"engnat\"]\n",
    "cluster3 = engnat_df[engnat_df[\"cluster\"] == 2][\"engnat\"]\n",
    "cluster4 = engnat_df[engnat_df[\"cluster\"] == 3][\"engnat\"]\n",
    "cluster5 = engnat_df[engnat_df[\"cluster\"] == 4][\"engnat\"]"
   ]
  },
  {
   "cell_type": "code",
   "execution_count": null,
   "id": "339ef765",
   "metadata": {},
   "outputs": [],
   "source": [
    "# Run ANOVA test\n",
    "\n",
    "stats.f_oneway(cluster1, cluster2, cluster3, cluster4, cluster5)"
   ]
  },
  {
   "cell_type": "code",
   "execution_count": null,
   "id": "fe6b6317",
   "metadata": {},
   "outputs": [],
   "source": [
    "# Isolate handedness field with cluster data\n",
    "\n",
    "handedness_df = clustered_df.drop(['race', 'age', 'gender', 'engnat', 'source', 'country'], axis = 1)\n",
    "handedness_df"
   ]
  },
  {
   "cell_type": "code",
   "execution_count": null,
   "id": "93f2547f",
   "metadata": {},
   "outputs": [],
   "source": [
    "# Define handedness clusters\n",
    "\n",
    "cluster1 = handedness_df[handedness_df[\"cluster\"] == 0][\"hand\"]\n",
    "cluster2 = handedness_df[handedness_df[\"cluster\"] == 1][\"hand\"]\n",
    "cluster3 = handedness_df[handedness_df[\"cluster\"] == 2][\"hand\"]\n",
    "cluster4 = handedness_df[handedness_df[\"cluster\"] == 3][\"hand\"]\n",
    "cluster5 = handedness_df[handedness_df[\"cluster\"] == 4][\"hand\"]"
   ]
  },
  {
   "cell_type": "code",
   "execution_count": null,
   "id": "37b9b5df",
   "metadata": {},
   "outputs": [],
   "source": [
    "# Run ANOVA test\n",
    "\n",
    "stats.f_oneway(cluster1, cluster2, cluster3, cluster4, cluster5)"
   ]
  },
  {
   "cell_type": "code",
   "execution_count": null,
   "id": "11ab2fb6",
   "metadata": {},
   "outputs": [],
   "source": [
    "# Isolate race field with cluster data\n",
    "\n",
    "race_df = clustered_df.drop(['hand', 'age', 'gender', 'engnat', 'source', 'country'], axis = 1)\n",
    "race_df"
   ]
  },
  {
   "cell_type": "code",
   "execution_count": null,
   "id": "2c07290b",
   "metadata": {},
   "outputs": [],
   "source": [
    "# Define race clusters\n",
    "\n",
    "cluster1 = race_df[race_df[\"cluster\"] == 0][\"race\"]\n",
    "cluster2 = race_df[race_df[\"cluster\"] == 1][\"race\"]\n",
    "cluster3 = race_df[race_df[\"cluster\"] == 2][\"race\"]\n",
    "cluster4 = race_df[race_df[\"cluster\"] == 3][\"race\"]\n",
    "cluster5 = race_df[race_df[\"cluster\"] == 4][\"race\"]"
   ]
  },
  {
   "cell_type": "code",
   "execution_count": null,
   "id": "9b50cd2b",
   "metadata": {},
   "outputs": [],
   "source": [
    "# Run ANOVA test\n",
    "\n",
    "stats.f_oneway(cluster1, cluster2, cluster3, cluster4, cluster5)"
   ]
  },
  {
   "cell_type": "code",
   "execution_count": null,
   "id": "c746c421",
   "metadata": {},
   "outputs": [],
   "source": [
    "# Isolate gender field with cluster data\n",
    "\n",
    "gender_df = clustered_df.drop(['hand', 'age', 'race', 'engnat', 'source', 'country'], axis = 1)\n",
    "gender_df"
   ]
  },
  {
   "cell_type": "code",
   "execution_count": null,
   "id": "16cd94dd",
   "metadata": {},
   "outputs": [],
   "source": [
    "# Define gender clusters\n",
    "\n",
    "cluster1 = gender_df[gender_df[\"cluster\"] == 0][\"gender\"]\n",
    "cluster2 = gender_df[gender_df[\"cluster\"] == 1][\"gender\"]\n",
    "cluster3 = gender_df[gender_df[\"cluster\"] == 2][\"gender\"]\n",
    "cluster4 = gender_df[gender_df[\"cluster\"] == 3][\"gender\"]\n",
    "cluster5 = gender_df[gender_df[\"cluster\"] == 4][\"gender\"]\n",
    "\n",
    "# Checking male and female percentages of clusters to ensure means are representative\n",
    "\n",
    "print(\"Cluster 0: \" + str(cluster1[cluster1 == 1].count()/cluster1.count()))\n",
    "print(\"Cluster 0: \" + str(cluster1[cluster1 == 2].count()/cluster1.count()))\n",
    "\n",
    "print(\"Cluster 1: \" + str(cluster2[cluster2 == 1].count()/cluster2.count()))\n",
    "print(\"Cluster 1: \" + str(cluster2[cluster2 == 2].count()/cluster2.count()))\n",
    "\n",
    "print(\"Cluster 2: \" + str(cluster3[cluster3 == 1].count()/cluster3.count()))\n",
    "print(\"Cluster 2: \" + str(cluster3[cluster3 == 2].count()/cluster3.count()))\n",
    "\n",
    "print(\"Cluster 3: \" + str(cluster4[cluster4 == 1].count()/cluster4.count()))\n",
    "print(\"Cluster 3: \" + str(cluster4[cluster4 == 2].count()/cluster4.count()))\n",
    "\n",
    "print(\"Cluster 4: \" + str(cluster5[cluster5 == 1].count()/cluster5.count()))\n",
    "print(\"Cluster 4: \" + str(cluster5[cluster5 == 2].count()/cluster5.count()))\n"
   ]
  },
  {
   "cell_type": "code",
   "execution_count": null,
   "id": "da390e0b",
   "metadata": {},
   "outputs": [],
   "source": [
    "# Run ANOVA test\n",
    "\n",
    "stats.f_oneway(cluster1, cluster2, cluster3, cluster4, cluster5)"
   ]
  },
  {
   "cell_type": "code",
   "execution_count": null,
   "id": "cf110e09",
   "metadata": {},
   "outputs": [],
   "source": [
    "clustered_df[\"country\"] = data[\"country\"]\n",
    "\n",
    "clustered_df.to_csv('country_data.csv')"
   ]
  },
  {
   "cell_type": "code",
   "execution_count": null,
   "id": "65158be2",
   "metadata": {},
   "outputs": [],
   "source": []
  }
 ],
 "metadata": {
  "kernelspec": {
   "display_name": "Python 3",
   "language": "python",
   "name": "python3"
  },
  "language_info": {
   "codemirror_mode": {
    "name": "ipython",
    "version": 3
   },
   "file_extension": ".py",
   "mimetype": "text/x-python",
   "name": "python",
   "nbconvert_exporter": "python",
   "pygments_lexer": "ipython3",
   "version": "3.8.8"
  }
 },
 "nbformat": 4,
 "nbformat_minor": 5
}
